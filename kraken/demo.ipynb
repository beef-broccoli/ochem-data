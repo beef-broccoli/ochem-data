{
 "cells": [
  {
   "cell_type": "markdown",
   "metadata": {},
   "source": [
    "# Demo of Kraken utility functions\n",
    "\n",
    "## look up Kraken ID\n",
    "\n",
    "Search priority:\n",
    "\n",
    "1. CAS number\n",
    "2. name (exact match)\n",
    "3. name (partial match)\n",
    "4. smiles (exact match)\n",
    "5. smiles (atom count, mw, formula)\n",
    "6. inchi\n",
    "7. key words\n",
    "\n",
    "at least provide information for one of the three areas"
   ]
  },
  {
   "cell_type": "code",
   "execution_count": 1,
   "metadata": {},
   "outputs": [],
   "source": [
    "from kraken_utils import lookup"
   ]
  },
  {
   "cell_type": "code",
   "execution_count": 2,
   "metadata": {
    "pycharm": {
     "name": "#%%\n"
    }
   },
   "outputs": [
    {
     "name": "stdout",
     "output_type": "stream",
     "text": [
      "Found result by ligand name\n"
     ]
    },
    {
     "data": {
      "text/html": [
       "<div>\n",
       "<style scoped>\n",
       "    .dataframe tbody tr th:only-of-type {\n",
       "        vertical-align: middle;\n",
       "    }\n",
       "\n",
       "    .dataframe tbody tr th {\n",
       "        vertical-align: top;\n",
       "    }\n",
       "\n",
       "    .dataframe thead th {\n",
       "        text-align: right;\n",
       "    }\n",
       "</style>\n",
       "<table border=\"1\" class=\"dataframe\">\n",
       "  <thead>\n",
       "    <tr style=\"text-align: right;\">\n",
       "      <th></th>\n",
       "      <th>ligand</th>\n",
       "      <th>id</th>\n",
       "      <th>can_smiles</th>\n",
       "    </tr>\n",
       "  </thead>\n",
       "  <tbody>\n",
       "    <tr>\n",
       "      <th>1</th>\n",
       "      <td>CPhos</td>\n",
       "      <td>2</td>\n",
       "      <td>CN(C)c1cccc(N(C)C)c1-c1ccccc1P(C1CCCCC1)C1CCCCC1</td>\n",
       "    </tr>\n",
       "  </tbody>\n",
       "</table>\n",
       "</div>"
      ],
      "text/plain": [
       "  ligand  id                                        can_smiles\n",
       "1  CPhos   2  CN(C)c1cccc(N(C)C)c1-c1ccccc1P(C1CCCCC1)C1CCCCC1"
      ]
     },
     "execution_count": 2,
     "metadata": {},
     "output_type": "execute_result"
    }
   ],
   "source": [
    "lookup(name='cPHoS')"
   ]
  },
  {
   "cell_type": "code",
   "execution_count": 3,
   "metadata": {
    "pycharm": {
     "name": "#%%\n"
    }
   },
   "outputs": [
    {
     "name": "stdout",
     "output_type": "stream",
     "text": [
      "Found result by ligand name\n"
     ]
    },
    {
     "data": {
      "text/html": [
       "<div>\n",
       "<style scoped>\n",
       "    .dataframe tbody tr th:only-of-type {\n",
       "        vertical-align: middle;\n",
       "    }\n",
       "\n",
       "    .dataframe tbody tr th {\n",
       "        vertical-align: top;\n",
       "    }\n",
       "\n",
       "    .dataframe thead th {\n",
       "        text-align: right;\n",
       "    }\n",
       "</style>\n",
       "<table border=\"1\" class=\"dataframe\">\n",
       "  <thead>\n",
       "    <tr style=\"text-align: right;\">\n",
       "      <th></th>\n",
       "      <th>ligand</th>\n",
       "      <th>id</th>\n",
       "      <th>can_smiles</th>\n",
       "    </tr>\n",
       "  </thead>\n",
       "  <tbody>\n",
       "    <tr>\n",
       "      <th>16</th>\n",
       "      <td>PPh3</td>\n",
       "      <td>17</td>\n",
       "      <td>c1ccc(P(c2ccccc2)c2ccccc2)cc1</td>\n",
       "    </tr>\n",
       "  </tbody>\n",
       "</table>\n",
       "</div>"
      ],
      "text/plain": [
       "   ligand  id                     can_smiles\n",
       "16   PPh3  17  c1ccc(P(c2ccccc2)c2ccccc2)cc1"
      ]
     },
     "execution_count": 3,
     "metadata": {},
     "output_type": "execute_result"
    }
   ],
   "source": [
    "lookup(name='pPH3')"
   ]
  },
  {
   "cell_type": "code",
   "execution_count": 4,
   "metadata": {
    "pycharm": {
     "name": "#%%\n"
    }
   },
   "outputs": [
    {
     "name": "stdout",
     "output_type": "stream",
     "text": [
      "No exact match found, here are some possibilities\n"
     ]
    },
    {
     "data": {
      "text/html": [
       "<div>\n",
       "<style scoped>\n",
       "    .dataframe tbody tr th:only-of-type {\n",
       "        vertical-align: middle;\n",
       "    }\n",
       "\n",
       "    .dataframe tbody tr th {\n",
       "        vertical-align: top;\n",
       "    }\n",
       "\n",
       "    .dataframe thead th {\n",
       "        text-align: right;\n",
       "    }\n",
       "</style>\n",
       "<table border=\"1\" class=\"dataframe\">\n",
       "  <thead>\n",
       "    <tr style=\"text-align: right;\">\n",
       "      <th></th>\n",
       "      <th>ligand</th>\n",
       "      <th>id</th>\n",
       "      <th>can_smiles</th>\n",
       "    </tr>\n",
       "  </thead>\n",
       "  <tbody>\n",
       "    <tr>\n",
       "      <th>15</th>\n",
       "      <td>P(4CF3Ph)3</td>\n",
       "      <td>16</td>\n",
       "      <td>FC(F)(F)c1ccc(P(c2ccc(C(F)(F)F)cc2)c2ccc(C(F)(...</td>\n",
       "    </tr>\n",
       "    <tr>\n",
       "      <th>25</th>\n",
       "      <td>35CF3_PhSPhos</td>\n",
       "      <td>26</td>\n",
       "      <td>COc1cccc(OC)c1-c1ccccc1P(c1cc(C(F)(F)F)cc(C(F)...</td>\n",
       "    </tr>\n",
       "    <tr>\n",
       "      <th>27</th>\n",
       "      <td>4CF3_PhSPhos</td>\n",
       "      <td>28</td>\n",
       "      <td>COc1cccc(OC)c1-c1ccccc1P(c1ccc(C(F)(F)F)cc1)c1...</td>\n",
       "    </tr>\n",
       "    <tr>\n",
       "      <th>28</th>\n",
       "      <td>35CF3_PhXPhos</td>\n",
       "      <td>29</td>\n",
       "      <td>CC(C)c1cc(C(C)C)c(-c2ccccc2P(c2cc(C(F)(F)F)cc(...</td>\n",
       "    </tr>\n",
       "    <tr>\n",
       "      <th>32</th>\n",
       "      <td>35CF3_PhRuPhos</td>\n",
       "      <td>33</td>\n",
       "      <td>CC(C)Oc1cccc(OC(C)C)c1-c1ccccc1P(c1cc(C(F)(F)F...</td>\n",
       "    </tr>\n",
       "    <tr>\n",
       "      <th>...</th>\n",
       "      <td>...</td>\n",
       "      <td>...</td>\n",
       "      <td>...</td>\n",
       "    </tr>\n",
       "    <tr>\n",
       "      <th>1399</th>\n",
       "      <td>Binaph_OMe_P(3,5(CF3)2Ph)2</td>\n",
       "      <td>1474</td>\n",
       "      <td>COc1ccc2ccccc2c1-c1c(P(c2cc(C(F)(F)F)cc(C(F)(F...</td>\n",
       "    </tr>\n",
       "    <tr>\n",
       "      <th>1406</th>\n",
       "      <td>PPh(OC(CF3)3)2</td>\n",
       "      <td>1481</td>\n",
       "      <td>FC(F)(F)C(OP(OC(C(F)(F)F)(C(F)(F)F)C(F)(F)F)c1...</td>\n",
       "    </tr>\n",
       "    <tr>\n",
       "      <th>1407</th>\n",
       "      <td>PPh2(OC(CF3)3)</td>\n",
       "      <td>1482</td>\n",
       "      <td>FC(F)(F)C(OP(c1ccccc1)c1ccccc1)(C(F)(F)F)C(F)(F)F</td>\n",
       "    </tr>\n",
       "    <tr>\n",
       "      <th>1433</th>\n",
       "      <td>PoTol(4-CF3-Ph)2</td>\n",
       "      <td>1508</td>\n",
       "      <td>Cc1ccccc1P(c1ccc(C(F)(F)F)cc1)c1ccc(C(F)(F)F)cc1</td>\n",
       "    </tr>\n",
       "    <tr>\n",
       "      <th>1434</th>\n",
       "      <td>PoTol(3,5-(CF3)2-Ph)2</td>\n",
       "      <td>1509</td>\n",
       "      <td>Cc1ccccc1P(c1cc(C(F)(F)F)cc(C(F)(F)F)c1)c1cc(C...</td>\n",
       "    </tr>\n",
       "  </tbody>\n",
       "</table>\n",
       "<p>98 rows × 3 columns</p>\n",
       "</div>"
      ],
      "text/plain": [
       "                          ligand    id  \\\n",
       "15                    P(4CF3Ph)3    16   \n",
       "25                 35CF3_PhSPhos    26   \n",
       "27                  4CF3_PhSPhos    28   \n",
       "28                 35CF3_PhXPhos    29   \n",
       "32                35CF3_PhRuPhos    33   \n",
       "...                          ...   ...   \n",
       "1399  Binaph_OMe_P(3,5(CF3)2Ph)2  1474   \n",
       "1406              PPh(OC(CF3)3)2  1481   \n",
       "1407              PPh2(OC(CF3)3)  1482   \n",
       "1433            PoTol(4-CF3-Ph)2  1508   \n",
       "1434       PoTol(3,5-(CF3)2-Ph)2  1509   \n",
       "\n",
       "                                             can_smiles  \n",
       "15    FC(F)(F)c1ccc(P(c2ccc(C(F)(F)F)cc2)c2ccc(C(F)(...  \n",
       "25    COc1cccc(OC)c1-c1ccccc1P(c1cc(C(F)(F)F)cc(C(F)...  \n",
       "27    COc1cccc(OC)c1-c1ccccc1P(c1ccc(C(F)(F)F)cc1)c1...  \n",
       "28    CC(C)c1cc(C(C)C)c(-c2ccccc2P(c2cc(C(F)(F)F)cc(...  \n",
       "32    CC(C)Oc1cccc(OC(C)C)c1-c1ccccc1P(c1cc(C(F)(F)F...  \n",
       "...                                                 ...  \n",
       "1399  COc1ccc2ccccc2c1-c1c(P(c2cc(C(F)(F)F)cc(C(F)(F...  \n",
       "1406  FC(F)(F)C(OP(OC(C(F)(F)F)(C(F)(F)F)C(F)(F)F)c1...  \n",
       "1407  FC(F)(F)C(OP(c1ccccc1)c1ccccc1)(C(F)(F)F)C(F)(F)F  \n",
       "1433   Cc1ccccc1P(c1ccc(C(F)(F)F)cc1)c1ccc(C(F)(F)F)cc1  \n",
       "1434  Cc1ccccc1P(c1cc(C(F)(F)F)cc(C(F)(F)F)c1)c1cc(C...  \n",
       "\n",
       "[98 rows x 3 columns]"
      ]
     },
     "execution_count": 4,
     "metadata": {},
     "output_type": "execute_result"
    }
   ],
   "source": [
    "lookup(name='CF3')"
   ]
  },
  {
   "cell_type": "code",
   "execution_count": 5,
   "metadata": {
    "pycharm": {
     "name": "#%%\n"
    }
   },
   "outputs": [
    {
     "name": "stdout",
     "output_type": "stream",
     "text": [
      "No exact match found, here are some possibilities\n"
     ]
    },
    {
     "data": {
      "text/html": [
       "<div>\n",
       "<style scoped>\n",
       "    .dataframe tbody tr th:only-of-type {\n",
       "        vertical-align: middle;\n",
       "    }\n",
       "\n",
       "    .dataframe tbody tr th {\n",
       "        vertical-align: top;\n",
       "    }\n",
       "\n",
       "    .dataframe thead th {\n",
       "        text-align: right;\n",
       "    }\n",
       "</style>\n",
       "<table border=\"1\" class=\"dataframe\">\n",
       "  <thead>\n",
       "    <tr style=\"text-align: right;\">\n",
       "      <th></th>\n",
       "      <th>ligand</th>\n",
       "      <th>id</th>\n",
       "      <th>can_smiles</th>\n",
       "    </tr>\n",
       "  </thead>\n",
       "  <tbody>\n",
       "    <tr>\n",
       "      <th>325</th>\n",
       "      <td>o-MeO-KitPhos</td>\n",
       "      <td>326</td>\n",
       "      <td>COc1ccccc1C1=C(P(C2CCCCC2)C2CCCCC2)[C@H]2c3ccc...</td>\n",
       "    </tr>\n",
       "    <tr>\n",
       "      <th>1127</th>\n",
       "      <td>PPh2(Me2tBu2Xanthenyl)</td>\n",
       "      <td>1128</td>\n",
       "      <td>CC(C)(C)c1ccc2c(c1)C(C)(C)c1cc(C(C)(C)C)cc(P(c...</td>\n",
       "    </tr>\n",
       "  </tbody>\n",
       "</table>\n",
       "</div>"
      ],
      "text/plain": [
       "                      ligand    id  \\\n",
       "325            o-MeO-KitPhos   326   \n",
       "1127  PPh2(Me2tBu2Xanthenyl)  1128   \n",
       "\n",
       "                                             can_smiles  \n",
       "325   COc1ccccc1C1=C(P(C2CCCCC2)C2CCCCC2)[C@H]2c3ccc...  \n",
       "1127  CC(C)(C)c1ccc2c(c1)C(C)(C)c1cc(C(C)(C)C)cc(P(c...  "
      ]
     },
     "execution_count": 5,
     "metadata": {},
     "output_type": "execute_result"
    }
   ],
   "source": [
    "lookup(smiles='COc1ccccc1C1=C(P(C2CCCCC2)C2CCCCC2)C2c3ccccc3C1c1ccccc12')"
   ]
  },
  {
   "cell_type": "code",
   "execution_count": 6,
   "metadata": {
    "pycharm": {
     "name": "#%%\n"
    }
   },
   "outputs": [
    {
     "name": "stdout",
     "output_type": "stream",
     "text": [
      "Found result by smiles\n"
     ]
    },
    {
     "data": {
      "text/html": [
       "<div>\n",
       "<style scoped>\n",
       "    .dataframe tbody tr th:only-of-type {\n",
       "        vertical-align: middle;\n",
       "    }\n",
       "\n",
       "    .dataframe tbody tr th {\n",
       "        vertical-align: top;\n",
       "    }\n",
       "\n",
       "    .dataframe thead th {\n",
       "        text-align: right;\n",
       "    }\n",
       "</style>\n",
       "<table border=\"1\" class=\"dataframe\">\n",
       "  <thead>\n",
       "    <tr style=\"text-align: right;\">\n",
       "      <th></th>\n",
       "      <th>ligand</th>\n",
       "      <th>id</th>\n",
       "      <th>can_smiles</th>\n",
       "    </tr>\n",
       "  </thead>\n",
       "  <tbody>\n",
       "    <tr>\n",
       "      <th>326</th>\n",
       "      <td>Cy-BippyPhos</td>\n",
       "      <td>327</td>\n",
       "      <td>c1ccc(-c2nn(-c3ccccc3)c(-c3ccccc3)c2-n2nccc2P(...</td>\n",
       "    </tr>\n",
       "  </tbody>\n",
       "</table>\n",
       "</div>"
      ],
      "text/plain": [
       "           ligand   id                                         can_smiles\n",
       "326  Cy-BippyPhos  327  c1ccc(-c2nn(-c3ccccc3)c(-c3ccccc3)c2-n2nccc2P(..."
      ]
     },
     "execution_count": 6,
     "metadata": {},
     "output_type": "execute_result"
    }
   ],
   "source": [
    "lookup(smiles='c1ccc(-c2nn(-c3ccccc3)c(-c3ccccc3)c2-n2nccc2P(C2CCCCC2)C2CCCCC2)cc1')"
   ]
  },
  {
   "cell_type": "code",
   "execution_count": 7,
   "metadata": {
    "pycharm": {
     "name": "#%%\n"
    }
   },
   "outputs": [
    {
     "name": "stdout",
     "output_type": "stream",
     "text": [
      "No matches found. This ligand is possibly not in kraken.\n"
     ]
    }
   ],
   "source": [
    "lookup(smiles='CCOCC')"
   ]
  },
  {
   "cell_type": "code",
   "execution_count": 8,
   "metadata": {
    "pycharm": {
     "name": "#%%\n"
    }
   },
   "outputs": [
    {
     "name": "stdout",
     "output_type": "stream",
     "text": [
      "No exact match found, here are some possibilities\n"
     ]
    },
    {
     "data": {
      "text/html": [
       "<div>\n",
       "<style scoped>\n",
       "    .dataframe tbody tr th:only-of-type {\n",
       "        vertical-align: middle;\n",
       "    }\n",
       "\n",
       "    .dataframe tbody tr th {\n",
       "        vertical-align: top;\n",
       "    }\n",
       "\n",
       "    .dataframe thead th {\n",
       "        text-align: right;\n",
       "    }\n",
       "</style>\n",
       "<table border=\"1\" class=\"dataframe\">\n",
       "  <thead>\n",
       "    <tr style=\"text-align: right;\">\n",
       "      <th></th>\n",
       "      <th>ligand</th>\n",
       "      <th>id</th>\n",
       "      <th>can_smiles</th>\n",
       "    </tr>\n",
       "  </thead>\n",
       "  <tbody>\n",
       "    <tr>\n",
       "      <th>325</th>\n",
       "      <td>o-MeO-KitPhos</td>\n",
       "      <td>326</td>\n",
       "      <td>COc1ccccc1C1=C(P(C2CCCCC2)C2CCCCC2)[C@H]2c3ccc...</td>\n",
       "    </tr>\n",
       "    <tr>\n",
       "      <th>1127</th>\n",
       "      <td>PPh2(Me2tBu2Xanthenyl)</td>\n",
       "      <td>1128</td>\n",
       "      <td>CC(C)(C)c1ccc2c(c1)C(C)(C)c1cc(C(C)(C)C)cc(P(c...</td>\n",
       "    </tr>\n",
       "  </tbody>\n",
       "</table>\n",
       "</div>"
      ],
      "text/plain": [
       "                      ligand    id  \\\n",
       "325            o-MeO-KitPhos   326   \n",
       "1127  PPh2(Me2tBu2Xanthenyl)  1128   \n",
       "\n",
       "                                             can_smiles  \n",
       "325   COc1ccccc1C1=C(P(C2CCCCC2)C2CCCCC2)[C@H]2c3ccc...  \n",
       "1127  CC(C)(C)c1ccc2c(c1)C(C)(C)c1cc(C(C)(C)C)cc(P(c...  "
      ]
     },
     "execution_count": 8,
     "metadata": {},
     "output_type": "execute_result"
    }
   ],
   "source": [
    "lookup(inchi='InChI=1S/C35H39OP/c1-36-31-23-13-12-22-30(31)34-32-26-18-8-10-20-28(26)33(29-21-11-9-19-27(29)32)35(34)37(24-14-4-2-5-15-24)25-16-6-3-7-17-25/h8-13,18-25,32-33H,2-7,14-17H2,1H3')"
   ]
  },
  {
   "cell_type": "code",
   "execution_count": 9,
   "metadata": {
    "pycharm": {
     "name": "#%%\n"
    }
   },
   "outputs": [
    {
     "name": "stdout",
     "output_type": "stream",
     "text": [
      "Found result by inchi\n"
     ]
    },
    {
     "data": {
      "text/html": [
       "<div>\n",
       "<style scoped>\n",
       "    .dataframe tbody tr th:only-of-type {\n",
       "        vertical-align: middle;\n",
       "    }\n",
       "\n",
       "    .dataframe tbody tr th {\n",
       "        vertical-align: top;\n",
       "    }\n",
       "\n",
       "    .dataframe thead th {\n",
       "        text-align: right;\n",
       "    }\n",
       "</style>\n",
       "<table border=\"1\" class=\"dataframe\">\n",
       "  <thead>\n",
       "    <tr style=\"text-align: right;\">\n",
       "      <th></th>\n",
       "      <th>ligand</th>\n",
       "      <th>id</th>\n",
       "      <th>can_smiles</th>\n",
       "    </tr>\n",
       "  </thead>\n",
       "  <tbody>\n",
       "    <tr>\n",
       "      <th>335</th>\n",
       "      <td>NPCy Phendole-Phos</td>\n",
       "      <td>336</td>\n",
       "      <td>c1ccc(-c2cc3ccccc3n2P(C2CCCCC2)C2CCCCC2)cc1</td>\n",
       "    </tr>\n",
       "  </tbody>\n",
       "</table>\n",
       "</div>"
      ],
      "text/plain": [
       "                 ligand   id                                   can_smiles\n",
       "335  NPCy Phendole-Phos  336  c1ccc(-c2cc3ccccc3n2P(C2CCCCC2)C2CCCCC2)cc1"
      ]
     },
     "execution_count": 9,
     "metadata": {},
     "output_type": "execute_result"
    }
   ],
   "source": [
    "lookup(inchi='InChI=1S/C26H32NP/c1-4-12-21(13-5-1)26-20-22-14-10-11-19-25(22)27(26)28(23-15-6-2-7-16-23)24-17-8-3-9-18-24/h1,4-5,10-14,19-20,23-24H,2-3,6-9,15-18H2')"
   ]
  },
  {
   "cell_type": "code",
   "execution_count": 10,
   "metadata": {
    "pycharm": {
     "name": "#%%\n"
    }
   },
   "outputs": [
    {
     "name": "stdout",
     "output_type": "stream",
     "text": [
      "Found result by CAS number\n"
     ]
    },
    {
     "data": {
      "text/html": [
       "<div>\n",
       "<style scoped>\n",
       "    .dataframe tbody tr th:only-of-type {\n",
       "        vertical-align: middle;\n",
       "    }\n",
       "\n",
       "    .dataframe tbody tr th {\n",
       "        vertical-align: top;\n",
       "    }\n",
       "\n",
       "    .dataframe thead th {\n",
       "        text-align: right;\n",
       "    }\n",
       "</style>\n",
       "<table border=\"1\" class=\"dataframe\">\n",
       "  <thead>\n",
       "    <tr style=\"text-align: right;\">\n",
       "      <th></th>\n",
       "      <th>ligand</th>\n",
       "      <th>id</th>\n",
       "      <th>can_smiles</th>\n",
       "    </tr>\n",
       "  </thead>\n",
       "  <tbody>\n",
       "    <tr>\n",
       "      <th>18</th>\n",
       "      <td>PBnPh2</td>\n",
       "      <td>19</td>\n",
       "      <td>c1ccc(CP(c2ccccc2)c2ccccc2)cc1</td>\n",
       "    </tr>\n",
       "  </tbody>\n",
       "</table>\n",
       "</div>"
      ],
      "text/plain": [
       "    ligand  id                      can_smiles\n",
       "18  PBnPh2  19  c1ccc(CP(c2ccccc2)c2ccccc2)cc1"
      ]
     },
     "execution_count": 10,
     "metadata": {},
     "output_type": "execute_result"
    }
   ],
   "source": [
    "lookup(cas='63832-86-0')"
   ]
  },
  {
   "cell_type": "code",
   "execution_count": 11,
   "metadata": {
    "pycharm": {
     "name": "#%%\n"
    }
   },
   "outputs": [
    {
     "name": "stdout",
     "output_type": "stream",
     "text": [
      "Found result by CAS number\n"
     ]
    },
    {
     "data": {
      "text/html": [
       "<div>\n",
       "<style scoped>\n",
       "    .dataframe tbody tr th:only-of-type {\n",
       "        vertical-align: middle;\n",
       "    }\n",
       "\n",
       "    .dataframe tbody tr th {\n",
       "        vertical-align: top;\n",
       "    }\n",
       "\n",
       "    .dataframe thead th {\n",
       "        text-align: right;\n",
       "    }\n",
       "</style>\n",
       "<table border=\"1\" class=\"dataframe\">\n",
       "  <thead>\n",
       "    <tr style=\"text-align: right;\">\n",
       "      <th></th>\n",
       "      <th>ligand</th>\n",
       "      <th>id</th>\n",
       "      <th>can_smiles</th>\n",
       "    </tr>\n",
       "  </thead>\n",
       "  <tbody>\n",
       "    <tr>\n",
       "      <th>18</th>\n",
       "      <td>PBnPh2</td>\n",
       "      <td>19</td>\n",
       "      <td>c1ccc(CP(c2ccccc2)c2ccccc2)cc1</td>\n",
       "    </tr>\n",
       "  </tbody>\n",
       "</table>\n",
       "</div>"
      ],
      "text/plain": [
       "    ligand  id                      can_smiles\n",
       "18  PBnPh2  19  c1ccc(CP(c2ccccc2)c2ccccc2)cc1"
      ]
     },
     "execution_count": 11,
     "metadata": {},
     "output_type": "execute_result"
    }
   ],
   "source": [
    "# if match for higher priority term is found, the rest are ignored\n",
    "lookup(cas='63832-86-0', name='jason', smiles='jason', inchi='jason')"
   ]
  },
  {
   "cell_type": "code",
   "execution_count": 12,
   "metadata": {
    "pycharm": {
     "name": "#%%\n"
    }
   },
   "outputs": [
    {
     "name": "stdout",
     "output_type": "stream",
     "text": [
      "Found result by ligand name\n"
     ]
    },
    {
     "data": {
      "text/html": [
       "<div>\n",
       "<style scoped>\n",
       "    .dataframe tbody tr th:only-of-type {\n",
       "        vertical-align: middle;\n",
       "    }\n",
       "\n",
       "    .dataframe tbody tr th {\n",
       "        vertical-align: top;\n",
       "    }\n",
       "\n",
       "    .dataframe thead th {\n",
       "        text-align: right;\n",
       "    }\n",
       "</style>\n",
       "<table border=\"1\" class=\"dataframe\">\n",
       "  <thead>\n",
       "    <tr style=\"text-align: right;\">\n",
       "      <th></th>\n",
       "      <th>ligand</th>\n",
       "      <th>id</th>\n",
       "      <th>can_smiles</th>\n",
       "    </tr>\n",
       "  </thead>\n",
       "  <tbody>\n",
       "    <tr>\n",
       "      <th>4</th>\n",
       "      <td>CyJohnPhos</td>\n",
       "      <td>5</td>\n",
       "      <td>c1ccc(-c2ccccc2P(C2CCCCC2)C2CCCCC2)cc1</td>\n",
       "    </tr>\n",
       "  </tbody>\n",
       "</table>\n",
       "</div>"
      ],
      "text/plain": [
       "       ligand  id                              can_smiles\n",
       "4  CyJohnPhos   5  c1ccc(-c2ccccc2P(C2CCCCC2)C2CCCCC2)cc1"
      ]
     },
     "execution_count": 12,
     "metadata": {},
     "output_type": "execute_result"
    }
   ],
   "source": [
    "# going through priority progression\n",
    "lookup(cas='000-00-0', name='cYjOHnPhOS', smiles='jason')"
   ]
  },
  {
   "cell_type": "code",
   "execution_count": 13,
   "metadata": {
    "pycharm": {
     "name": "#%%\n"
    }
   },
   "outputs": [
    {
     "name": "stdout",
     "output_type": "stream",
     "text": [
      "Found result by keywords\n"
     ]
    },
    {
     "data": {
      "text/html": [
       "<div>\n",
       "<style scoped>\n",
       "    .dataframe tbody tr th:only-of-type {\n",
       "        vertical-align: middle;\n",
       "    }\n",
       "\n",
       "    .dataframe tbody tr th {\n",
       "        vertical-align: top;\n",
       "    }\n",
       "\n",
       "    .dataframe thead th {\n",
       "        text-align: right;\n",
       "    }\n",
       "</style>\n",
       "<table border=\"1\" class=\"dataframe\">\n",
       "  <thead>\n",
       "    <tr style=\"text-align: right;\">\n",
       "      <th></th>\n",
       "      <th>ligand</th>\n",
       "      <th>id</th>\n",
       "      <th>can_smiles</th>\n",
       "    </tr>\n",
       "  </thead>\n",
       "  <tbody>\n",
       "    <tr>\n",
       "      <th>88</th>\n",
       "      <td>tBuBrettPhos</td>\n",
       "      <td>89</td>\n",
       "      <td>COc1ccc(OC)c(P(C(C)(C)C)C(C)(C)C)c1-c1c(C(C)C)...</td>\n",
       "    </tr>\n",
       "  </tbody>\n",
       "</table>\n",
       "</div>"
      ],
      "text/plain": [
       "          ligand  id                                         can_smiles\n",
       "88  tBuBrettPhos  89  COc1ccc(OC)c(P(C(C)(C)C)C(C)(C)C)c1-c1c(C(C)C)..."
      ]
     },
     "execution_count": 13,
     "metadata": {},
     "output_type": "execute_result"
    }
   ],
   "source": [
    "lookup(keywords=['brett', 'Bu'])"
   ]
  },
  {
   "cell_type": "code",
   "execution_count": 14,
   "metadata": {
    "pycharm": {
     "name": "#%%\n"
    }
   },
   "outputs": [
    {
     "name": "stdout",
     "output_type": "stream",
     "text": [
      "No exact match found, here are some possibilities\n"
     ]
    },
    {
     "data": {
      "text/html": [
       "<div>\n",
       "<style scoped>\n",
       "    .dataframe tbody tr th:only-of-type {\n",
       "        vertical-align: middle;\n",
       "    }\n",
       "\n",
       "    .dataframe tbody tr th {\n",
       "        vertical-align: top;\n",
       "    }\n",
       "\n",
       "    .dataframe thead th {\n",
       "        text-align: right;\n",
       "    }\n",
       "</style>\n",
       "<table border=\"1\" class=\"dataframe\">\n",
       "  <thead>\n",
       "    <tr style=\"text-align: right;\">\n",
       "      <th></th>\n",
       "      <th>ligand</th>\n",
       "      <th>id</th>\n",
       "      <th>can_smiles</th>\n",
       "    </tr>\n",
       "  </thead>\n",
       "  <tbody>\n",
       "    <tr>\n",
       "      <th>70</th>\n",
       "      <td>PtBu2_4PhCF3</td>\n",
       "      <td>71</td>\n",
       "      <td>CC(C)(C)P(c1ccc(C(F)(F)F)cc1)C(C)(C)C</td>\n",
       "    </tr>\n",
       "    <tr>\n",
       "      <th>1093</th>\n",
       "      <td>PtBu(Ph-Ph)(p-CF3-Ph)</td>\n",
       "      <td>1094</td>\n",
       "      <td>CC(C)(C)P(c1ccc(C(F)(F)F)cc1)c1ccccc1-c1ccccc1</td>\n",
       "    </tr>\n",
       "    <tr>\n",
       "      <th>1113</th>\n",
       "      <td>PtBu(p-CF3-Ph)Fc</td>\n",
       "      <td>1114</td>\n",
       "      <td>CC(C)(C)P(c1ccc(C(F)(F)F)cc1)C12C3C4C5C1[Fe]45...</td>\n",
       "    </tr>\n",
       "    <tr>\n",
       "      <th>1138</th>\n",
       "      <td>PtBu2(2OMe,5CF3-Ph)</td>\n",
       "      <td>1139</td>\n",
       "      <td>COc1ccc(C(F)(F)F)cc1P(C(C)(C)C)C(C)(C)C</td>\n",
       "    </tr>\n",
       "    <tr>\n",
       "      <th>1177</th>\n",
       "      <td>P(p-CF3-Ph)2(3-5-tBu2-4-OMe-Ph)</td>\n",
       "      <td>1178</td>\n",
       "      <td>COc1c(C(C)(C)C)cc(P(c2ccc(C(F)(F)F)cc2)c2ccc(C...</td>\n",
       "    </tr>\n",
       "    <tr>\n",
       "      <th>1183</th>\n",
       "      <td>P(p-CF3-Ph)2(3-5-tBu2-Ph)</td>\n",
       "      <td>1184</td>\n",
       "      <td>CC(C)(C)c1cc(P(c2ccc(C(F)(F)F)cc2)c2ccc(C(F)(F...</td>\n",
       "    </tr>\n",
       "  </tbody>\n",
       "</table>\n",
       "</div>"
      ],
      "text/plain": [
       "                               ligand    id  \\\n",
       "70                       PtBu2_4PhCF3    71   \n",
       "1093            PtBu(Ph-Ph)(p-CF3-Ph)  1094   \n",
       "1113                 PtBu(p-CF3-Ph)Fc  1114   \n",
       "1138              PtBu2(2OMe,5CF3-Ph)  1139   \n",
       "1177  P(p-CF3-Ph)2(3-5-tBu2-4-OMe-Ph)  1178   \n",
       "1183        P(p-CF3-Ph)2(3-5-tBu2-Ph)  1184   \n",
       "\n",
       "                                             can_smiles  \n",
       "70                CC(C)(C)P(c1ccc(C(F)(F)F)cc1)C(C)(C)C  \n",
       "1093     CC(C)(C)P(c1ccc(C(F)(F)F)cc1)c1ccccc1-c1ccccc1  \n",
       "1113  CC(C)(C)P(c1ccc(C(F)(F)F)cc1)C12C3C4C5C1[Fe]45...  \n",
       "1138            COc1ccc(C(F)(F)F)cc1P(C(C)(C)C)C(C)(C)C  \n",
       "1177  COc1c(C(C)(C)C)cc(P(c2ccc(C(F)(F)F)cc2)c2ccc(C...  \n",
       "1183  CC(C)(C)c1cc(P(c2ccc(C(F)(F)F)cc2)c2ccc(C(F)(F...  "
      ]
     },
     "execution_count": 14,
     "metadata": {},
     "output_type": "execute_result"
    }
   ],
   "source": [
    "lookup(keywords=['Ph', 'CF3', 'tBu'])"
   ]
  },
  {
   "cell_type": "markdown",
   "metadata": {},
   "source": [
    "## look up kraken ID for multiple ligands\n",
    "\n",
    "For ligands that have multiple possibilities, it will ask for user input "
   ]
  },
  {
   "cell_type": "code",
   "execution_count": 15,
   "metadata": {},
   "outputs": [
    {
     "name": "stdout",
     "output_type": "stream",
     "text": [
      "For ligand with \"name\" \"brett\", no match is found. Here are some possibilities:\n",
      "                                                            ligand    id  \\\n",
      "88                                                    tBuBrettPhos    89   \n",
      "101                                                      BrettPhos   102   \n",
      "103                               JackiePhos = (35CF3)2PhBrettPhos   104   \n",
      "104                                                   CF3BrettPhos   105   \n",
      "346                                                    AdBrettPhos   347   \n",
      "362     CBrettJackie P(3,5-(CF3)2-Ph)2(3,6-OMe2-2-(2,6-NMe2-Ph)-Ph   363   \n",
      "363   RuBrettJackie P(3,5-(CF3)2-Ph)2(3,6-OMe2-2-(2,6-OiPr2-Ph)-Ph   364   \n",
      "1275                                             AdCyBrettPhos (S)  1276   \n",
      "\n",
      "                                                                                                   can_smiles  \n",
      "88                                            COc1ccc(OC)c(P(C(C)(C)C)C(C)(C)C)c1-c1c(C(C)C)cc(C(C)C)cc1C(C)C  \n",
      "101                                           COc1ccc(OC)c(P(C2CCCCC2)C2CCCCC2)c1-c1c(C(C)C)cc(C(C)C)cc1C(C)C  \n",
      "103   COc1ccc(OC)c(P(c2cc(C(F)(F)F)cc(C(F)(F)F)c2)c2cc(C(F)(F)F)cc(C(F)(F)F)c2)c1-c1c(C(C)C)cc(C(C)C)cc1C(C)C  \n",
      "104                                           COc1ccc(OC)c(P(C(F)(F)F)C(F)(F)F)c1-c1c(C(C)C)cc(C(C)C)cc1C(C)C  \n",
      "346                    COc1ccc(c(c1c1c(cc(cc1C(C)C)C(C)C)C(C)C)P(C12CC3CC(C2)CC(C1)C3)C12CC3CC(C2)CC(C1)C3)OC  \n",
      "362          COc1ccc(OC)c(P(c2cc(C(F)(F)F)cc(C(F)(F)F)c2)c2cc(C(F)(F)F)cc(C(F)(F)F)c2)c1-c1c(N(C)C)cccc1N(C)C  \n",
      "363        COc1ccc(OC)c(P(c2cc(C(F)(F)F)cc(C(F)(F)F)c2)c2cc(C(F)(F)F)cc(C(F)(F)F)c2)c1-c1c(OC(C)C)cccc1OC(C)C  \n",
      "1275                               COc1ccc(c(c1c1c(cc(cc1C(C)C)C(C)C)C(C)C)P(C12CC3CC(C2)CC(C1)C3)C1CCCCC1)OC  \n",
      "Please input a kraken ID for this ligand (0 if none matches): 102\n"
     ]
    },
    {
     "data": {
      "text/plain": [
       "[5, 102, 11, 17]"
      ]
     },
     "execution_count": 15,
     "metadata": {},
     "output_type": "execute_result"
    }
   ],
   "source": [
    "from kraken_utils import lookup_multi\n",
    "\n",
    "values = ['cyjohnphos', 'brett', 'pcy3', 'pph3']\n",
    "lookup_multi(values, identifier='name')"
   ]
  },
  {
   "cell_type": "markdown",
   "metadata": {},
   "source": [
    "## Access Kraken data\n",
    "\n",
    "### Access raw data, not very useful outputs \n",
    "\n",
    "modes:\n",
    "\n",
    "- data: access ligand-wide data\n",
    "\n",
    "- confdata: access conformer specific data\n",
    "\n",
    "- energy: access ligand conformer energies"
   ]
  },
  {
   "cell_type": "code",
   "execution_count": 16,
   "metadata": {},
   "outputs": [],
   "source": [
    "from kraken_utils import access\n",
    "\n",
    "data = access(k_id=1, mode='data')"
   ]
  },
  {
   "cell_type": "code",
   "execution_count": 17,
   "metadata": {},
   "outputs": [],
   "source": [
    "data = access(k_id=1, mode='confdata') # a lot of data, takes a while "
   ]
  },
  {
   "cell_type": "code",
   "execution_count": 18,
   "metadata": {},
   "outputs": [],
   "source": [
    "data = access(k_id=1, mode='energy')"
   ]
  },
  {
   "cell_type": "markdown",
   "metadata": {},
   "source": [
    "### access one conformer data"
   ]
  },
  {
   "cell_type": "code",
   "execution_count": 19,
   "metadata": {},
   "outputs": [],
   "source": [
    "from kraken_utils import access_one_conf\n",
    "data = access_one_conf('1:00000001_Ni_00014', mode='confdata')"
   ]
  },
  {
   "cell_type": "markdown",
   "metadata": {},
   "source": [
    "### access multiple ligands at the same time"
   ]
  },
  {
   "cell_type": "code",
   "execution_count": 20,
   "metadata": {},
   "outputs": [],
   "source": [
    "# uses multiprocessing to speed up \n",
    "from kraken_utils import access_multi\n",
    "data, ids_no_data = access_multi(ids=[1,2,3,4,5,359,360,361], access_func=access, mode='data', howmanycores=8)"
   ]
  },
  {
   "cell_type": "code",
   "execution_count": 21,
   "metadata": {},
   "outputs": [
    {
     "data": {
      "text/plain": [
       "[359, 360, 361]"
      ]
     },
     "execution_count": 21,
     "metadata": {},
     "output_type": "execute_result"
    }
   ],
   "source": [
    "ids_no_data"
   ]
  },
  {
   "cell_type": "markdown",
   "metadata": {},
   "source": [
    "### acess_multi() can take custom access function to expand functionality\n",
    "\n",
    "For example, for a list of ligands, we are trying to get Vbur of Vbur(min) conformer"
   ]
  },
  {
   "cell_type": "code",
   "execution_count": 22,
   "metadata": {},
   "outputs": [],
   "source": [
    "# define a custom access function\n",
    "import requests, yaml\n",
    "\n",
    "def _get_vbur(id_and_conf, mode, verbose=1):\n",
    "\n",
    "    github_url = 'https://raw.githubusercontent.com/doyle-lab-ucla/krkn/main/raw/'\n",
    "\n",
    "    suffix = '_confdata.yml'\n",
    "\n",
    "    id, conf = id_and_conf.split(':')\n",
    "\n",
    "    full_id = str(id).zfill(8)\n",
    "\n",
    "    r = requests.get(github_url + full_id + suffix)\n",
    "    if r.status_code == 200:\n",
    "        data = yaml.load(r.text, Loader=yaml.Loader)\n",
    "        return data[conf]['properties']['vbur_vbur']\n",
    "    elif r.status_code == 404:\n",
    "        if verbose:\n",
    "            print('ligand {0} not found'.format(full_id))\n",
    "        return None\n",
    "    else:\n",
    "        raise ConnectionError('unknown networking issue, status code {0}'.format(r.status_code))"
   ]
  },
  {
   "cell_type": "code",
   "execution_count": 23,
   "metadata": {},
   "outputs": [
    {
     "data": {
      "text/plain": [
       "{'1:00000001_Ni_00014': 56.456887344222054,\n",
       " '2:00000002_Ni_00001': 58.53823760663896,\n",
       " '3:00000003_Ni_00011': 56.87420330135992,\n",
       " '4:00000004_Ni_00022': 55.427717164212886,\n",
       " '5:00000005_Ni_00009': 57.033180808841,\n",
       " '6:00000006_noNi_00000': 65.67967458743423,\n",
       " '7:00000007_Ni_00006': 52.14880607241542,\n",
       " '8:00000008_noNi_00001': 65.12848283452281,\n",
       " '9:00000009_Ni_00002': 61.75230260985862,\n",
       " '10:00000010_Ni_00009': 58.92103871017895}"
      ]
     },
     "execution_count": 23,
     "metadata": {},
     "output_type": "execute_result"
    }
   ],
   "source": [
    "ids = [1,2,3,4,5,6,7,8,9,10]\n",
    "\n",
    "# get vbur(min) conformer name\n",
    "# get a list of ligand IDs that actually have data in kraken\n",
    "data, ids_no_data = access_multi(ids, mode='data')\n",
    "ids_yes_data = list(data.keys())\n",
    "\n",
    "vburmin_conf_names = {}\n",
    "for id in ids_yes_data:\n",
    "    vburmin_conf_names[id] = data[id]['vburminconf']\n",
    "\n",
    "# Use custom access function for access_multi()\n",
    "ids_and_confs = [str(id) + ':' + vburmin_conf_names[id] for id in ids_yes_data]\n",
    "data, _ = access_multi(ids_and_confs, access_func=_get_vbur, mode='confdata')\n",
    "\n",
    "data"
   ]
  },
  {
   "cell_type": "markdown",
   "metadata": {},
   "source": [
    "### For a given ligand, get energies, steric and electronic features for each conformer as a table"
   ]
  },
  {
   "cell_type": "code",
   "execution_count": 24,
   "metadata": {},
   "outputs": [
    {
     "data": {
      "text/html": [
       "<div>\n",
       "<style scoped>\n",
       "    .dataframe tbody tr th:only-of-type {\n",
       "        vertical-align: middle;\n",
       "    }\n",
       "\n",
       "    .dataframe tbody tr th {\n",
       "        vertical-align: top;\n",
       "    }\n",
       "\n",
       "    .dataframe thead th {\n",
       "        text-align: right;\n",
       "    }\n",
       "</style>\n",
       "<table border=\"1\" class=\"dataframe\">\n",
       "  <thead>\n",
       "    <tr style=\"text-align: right;\">\n",
       "      <th></th>\n",
       "      <th>e_dz</th>\n",
       "      <th>e_tz_gas</th>\n",
       "      <th>e_tz_solv</th>\n",
       "      <th>g</th>\n",
       "      <th>g_tz_gas</th>\n",
       "      <th>g_tz_solv</th>\n",
       "      <th>E_oxidation</th>\n",
       "      <th>E_reduction</th>\n",
       "      <th>E_solv_cds</th>\n",
       "      <th>E_solv_elstat</th>\n",
       "      <th>E_solv_total</th>\n",
       "      <th>Pint_P_int</th>\n",
       "      <th>Pint_P_max</th>\n",
       "      <th>Pint_P_min</th>\n",
       "      <th>Pint_dP</th>\n",
       "      <th>dipolemoment</th>\n",
       "      <th>efg_amp_P</th>\n",
       "      <th>efgtens_xx_P</th>\n",
       "      <th>efgtens_yy_P</th>\n",
       "      <th>efgtens_zz_P</th>\n",
       "      <th>fmo_e_homo</th>\n",
       "      <th>fmo_e_lumo</th>\n",
       "      <th>fmo_eta</th>\n",
       "      <th>fmo_mu</th>\n",
       "      <th>fmo_omega</th>\n",
       "      <th>fukui_m</th>\n",
       "      <th>fukui_p</th>\n",
       "      <th>nbo_P</th>\n",
       "      <th>nbo_P_ra</th>\n",
       "      <th>nbo_P_rc</th>\n",
       "      <th>nbo_bd_e_avg</th>\n",
       "      <th>nbo_bd_e_max</th>\n",
       "      <th>nbo_bd_occ_avg</th>\n",
       "      <th>nbo_bd_occ_min</th>\n",
       "      <th>nbo_bds_e_avg</th>\n",
       "      <th>nbo_bds_e_min</th>\n",
       "      <th>nbo_bds_occ_avg</th>\n",
       "      <th>nbo_bds_occ_max</th>\n",
       "      <th>nbo_delta_lp_P_bds</th>\n",
       "      <th>nbo_lp_P_e</th>\n",
       "      <th>nbo_lp_P_occ</th>\n",
       "      <th>nbo_lp_P_percent_s</th>\n",
       "      <th>nmr_P</th>\n",
       "      <th>nmrtens_sxx_P</th>\n",
       "      <th>nmrtens_syy_P</th>\n",
       "      <th>nmrtens_szz_P</th>\n",
       "      <th>nuesp_P</th>\n",
       "      <th>pyr_P</th>\n",
       "      <th>pyr_alpha</th>\n",
       "      <th>qpole_amp</th>\n",
       "      <th>qpoletens_xx</th>\n",
       "      <th>qpoletens_yy</th>\n",
       "      <th>qpoletens_zz</th>\n",
       "      <th>somo_ra</th>\n",
       "      <th>somo_rc</th>\n",
       "      <th>sphericity</th>\n",
       "      <th>spindens_P_ra</th>\n",
       "      <th>spindens_P_rc</th>\n",
       "      <th>sterimol_B1</th>\n",
       "      <th>sterimol_B5</th>\n",
       "      <th>sterimol_L</th>\n",
       "      <th>sterimol_burB1</th>\n",
       "      <th>sterimol_burB5</th>\n",
       "      <th>sterimol_burL</th>\n",
       "      <th>surface_area</th>\n",
       "      <th>vbur_far_vbur</th>\n",
       "      <th>vbur_far_vtot</th>\n",
       "      <th>vbur_max_delta_qvbur</th>\n",
       "      <th>vbur_max_delta_qvtot</th>\n",
       "      <th>vbur_near_vbur</th>\n",
       "      <th>vbur_near_vtot</th>\n",
       "      <th>vbur_ovbur_max</th>\n",
       "      <th>vbur_ovbur_min</th>\n",
       "      <th>vbur_ovtot_max</th>\n",
       "      <th>vbur_ovtot_min</th>\n",
       "      <th>vbur_qvbur_max</th>\n",
       "      <th>vbur_qvbur_min</th>\n",
       "      <th>vbur_qvtot_max</th>\n",
       "      <th>vbur_qvtot_min</th>\n",
       "      <th>vbur_ratio_vbur_vtot</th>\n",
       "      <th>vbur_vbur</th>\n",
       "      <th>vbur_vtot</th>\n",
       "      <th>vmin_r</th>\n",
       "      <th>vmin_vmin</th>\n",
       "      <th>volume</th>\n",
       "    </tr>\n",
       "  </thead>\n",
       "  <tbody>\n",
       "    <tr>\n",
       "      <th>00000254_Ni_00002</th>\n",
       "      <td>-1316.755766</td>\n",
       "      <td>-1317.105373</td>\n",
       "      <td>-1317.113963</td>\n",
       "      <td>-1316.464139</td>\n",
       "      <td>-1316.813747</td>\n",
       "      <td>-1316.822337</td>\n",
       "      <td>0.276180</td>\n",
       "      <td>0.055903</td>\n",
       "      <td>-1.21</td>\n",
       "      <td>-4.180495</td>\n",
       "      <td>-5.390495</td>\n",
       "      <td>18.81</td>\n",
       "      <td>33.62</td>\n",
       "      <td>13.62</td>\n",
       "      <td>3.73</td>\n",
       "      <td>1.114136</td>\n",
       "      <td>1.268936</td>\n",
       "      <td>-0.773727</td>\n",
       "      <td>-0.209885</td>\n",
       "      <td>0.983613</td>\n",
       "      <td>-0.22309</td>\n",
       "      <td>0.01023</td>\n",
       "      <td>0.23332</td>\n",
       "      <td>-0.106430</td>\n",
       "      <td>0.024274</td>\n",
       "      <td>0.58488</td>\n",
       "      <td>0.17967</td>\n",
       "      <td>-0.17567</td>\n",
       "      <td>-0.35534</td>\n",
       "      <td>0.40921</td>\n",
       "      <td>-0.400347</td>\n",
       "      <td>-0.37996</td>\n",
       "      <td>1.948340</td>\n",
       "      <td>1.94816</td>\n",
       "      <td>0.170093</td>\n",
       "      <td>0.16136</td>\n",
       "      <td>0.050540</td>\n",
       "      <td>0.05098</td>\n",
       "      <td>0.45954</td>\n",
       "      <td>-0.29818</td>\n",
       "      <td>1.90333</td>\n",
       "      <td>47.11</td>\n",
       "      <td>414.3500</td>\n",
       "      <td>316.4525</td>\n",
       "      <td>361.5333</td>\n",
       "      <td>565.0643</td>\n",
       "      <td>-54.215525</td>\n",
       "      <td>0.864967</td>\n",
       "      <td>26.099781</td>\n",
       "      <td>3.265226</td>\n",
       "      <td>1.359549</td>\n",
       "      <td>1.306320</td>\n",
       "      <td>-2.665869</td>\n",
       "      <td>0.1017</td>\n",
       "      <td>-0.43597</td>\n",
       "      <td>0.838606</td>\n",
       "      <td>0.25832</td>\n",
       "      <td>0.85095</td>\n",
       "      <td>4.278460</td>\n",
       "      <td>5.441882</td>\n",
       "      <td>7.329448</td>\n",
       "      <td>4.278460</td>\n",
       "      <td>5.441882</td>\n",
       "      <td>7.329448</td>\n",
       "      <td>291.92983</td>\n",
       "      <td>0.295991</td>\n",
       "      <td>0.298747</td>\n",
       "      <td>5.750384</td>\n",
       "      <td>17.618987</td>\n",
       "      <td>61.215754</td>\n",
       "      <td>291.004415</td>\n",
       "      <td>19.428725</td>\n",
       "      <td>0.0</td>\n",
       "      <td>83.626934</td>\n",
       "      <td>0.0</td>\n",
       "      <td>19.727854</td>\n",
       "      <td>12.282058</td>\n",
       "      <td>83.626934</td>\n",
       "      <td>63.493997</td>\n",
       "      <td>0.211161</td>\n",
       "      <td>61.511745</td>\n",
       "      <td>291.303162</td>\n",
       "      <td>1.854765</td>\n",
       "      <td>-0.053736</td>\n",
       "      <td>360.18708</td>\n",
       "    </tr>\n",
       "    <tr>\n",
       "      <th>00000254_noNi_00000</th>\n",
       "      <td>-1316.755766</td>\n",
       "      <td>-1317.105374</td>\n",
       "      <td>-1317.113964</td>\n",
       "      <td>-1316.464140</td>\n",
       "      <td>-1316.813748</td>\n",
       "      <td>-1316.822338</td>\n",
       "      <td>0.276177</td>\n",
       "      <td>0.055904</td>\n",
       "      <td>-1.21</td>\n",
       "      <td>-4.180495</td>\n",
       "      <td>-5.390495</td>\n",
       "      <td>18.81</td>\n",
       "      <td>33.62</td>\n",
       "      <td>13.62</td>\n",
       "      <td>3.73</td>\n",
       "      <td>1.114109</td>\n",
       "      <td>1.268960</td>\n",
       "      <td>-0.773726</td>\n",
       "      <td>-0.209912</td>\n",
       "      <td>0.983638</td>\n",
       "      <td>-0.22309</td>\n",
       "      <td>0.01024</td>\n",
       "      <td>0.23333</td>\n",
       "      <td>-0.106425</td>\n",
       "      <td>0.024271</td>\n",
       "      <td>0.58489</td>\n",
       "      <td>0.17965</td>\n",
       "      <td>-0.17568</td>\n",
       "      <td>-0.35533</td>\n",
       "      <td>0.40921</td>\n",
       "      <td>-0.400347</td>\n",
       "      <td>-0.37996</td>\n",
       "      <td>1.948340</td>\n",
       "      <td>1.94816</td>\n",
       "      <td>0.170090</td>\n",
       "      <td>0.16136</td>\n",
       "      <td>0.050540</td>\n",
       "      <td>0.05098</td>\n",
       "      <td>0.45953</td>\n",
       "      <td>-0.29817</td>\n",
       "      <td>1.90333</td>\n",
       "      <td>47.10</td>\n",
       "      <td>414.3446</td>\n",
       "      <td>316.4511</td>\n",
       "      <td>361.5271</td>\n",
       "      <td>565.0555</td>\n",
       "      <td>-54.215527</td>\n",
       "      <td>0.864958</td>\n",
       "      <td>26.100683</td>\n",
       "      <td>3.265547</td>\n",
       "      <td>1.359504</td>\n",
       "      <td>1.306630</td>\n",
       "      <td>-2.666133</td>\n",
       "      <td>0.1017</td>\n",
       "      <td>-0.43597</td>\n",
       "      <td>0.838610</td>\n",
       "      <td>0.25830</td>\n",
       "      <td>0.85095</td>\n",
       "      <td>4.278769</td>\n",
       "      <td>5.441890</td>\n",
       "      <td>7.329427</td>\n",
       "      <td>4.278769</td>\n",
       "      <td>5.441890</td>\n",
       "      <td>7.329427</td>\n",
       "      <td>291.92944</td>\n",
       "      <td>0.295991</td>\n",
       "      <td>0.298744</td>\n",
       "      <td>5.750384</td>\n",
       "      <td>17.616726</td>\n",
       "      <td>61.218891</td>\n",
       "      <td>291.004706</td>\n",
       "      <td>19.428725</td>\n",
       "      <td>0.0</td>\n",
       "      <td>83.626866</td>\n",
       "      <td>0.0</td>\n",
       "      <td>19.727854</td>\n",
       "      <td>12.282058</td>\n",
       "      <td>83.626866</td>\n",
       "      <td>63.492157</td>\n",
       "      <td>0.211171</td>\n",
       "      <td>61.514882</td>\n",
       "      <td>291.303449</td>\n",
       "      <td>1.854762</td>\n",
       "      <td>-0.053739</td>\n",
       "      <td>360.18900</td>\n",
       "    </tr>\n",
       "    <tr>\n",
       "      <th>00000254_noNi_00001</th>\n",
       "      <td>-1316.755765</td>\n",
       "      <td>-1317.105373</td>\n",
       "      <td>-1317.113963</td>\n",
       "      <td>-1316.464139</td>\n",
       "      <td>-1316.813747</td>\n",
       "      <td>-1316.822337</td>\n",
       "      <td>0.276180</td>\n",
       "      <td>0.055904</td>\n",
       "      <td>-1.21</td>\n",
       "      <td>-4.180244</td>\n",
       "      <td>-5.390244</td>\n",
       "      <td>18.81</td>\n",
       "      <td>33.67</td>\n",
       "      <td>13.62</td>\n",
       "      <td>3.73</td>\n",
       "      <td>1.114254</td>\n",
       "      <td>1.268892</td>\n",
       "      <td>-0.773720</td>\n",
       "      <td>-0.209849</td>\n",
       "      <td>0.983569</td>\n",
       "      <td>-0.22309</td>\n",
       "      <td>0.01024</td>\n",
       "      <td>0.23333</td>\n",
       "      <td>-0.106425</td>\n",
       "      <td>0.024271</td>\n",
       "      <td>0.58487</td>\n",
       "      <td>0.17969</td>\n",
       "      <td>-0.17567</td>\n",
       "      <td>-0.35536</td>\n",
       "      <td>0.40920</td>\n",
       "      <td>-0.400340</td>\n",
       "      <td>-0.37995</td>\n",
       "      <td>1.948340</td>\n",
       "      <td>1.94816</td>\n",
       "      <td>0.170083</td>\n",
       "      <td>0.16135</td>\n",
       "      <td>0.050540</td>\n",
       "      <td>0.05098</td>\n",
       "      <td>0.45953</td>\n",
       "      <td>-0.29818</td>\n",
       "      <td>1.90333</td>\n",
       "      <td>47.11</td>\n",
       "      <td>414.3479</td>\n",
       "      <td>316.4472</td>\n",
       "      <td>361.5413</td>\n",
       "      <td>565.0551</td>\n",
       "      <td>-54.215525</td>\n",
       "      <td>0.864985</td>\n",
       "      <td>26.097873</td>\n",
       "      <td>3.265132</td>\n",
       "      <td>1.359270</td>\n",
       "      <td>1.306526</td>\n",
       "      <td>-2.665795</td>\n",
       "      <td>0.1017</td>\n",
       "      <td>-0.43597</td>\n",
       "      <td>0.838598</td>\n",
       "      <td>0.25835</td>\n",
       "      <td>0.85095</td>\n",
       "      <td>4.278931</td>\n",
       "      <td>5.441855</td>\n",
       "      <td>7.329355</td>\n",
       "      <td>4.278931</td>\n",
       "      <td>5.441855</td>\n",
       "      <td>7.329355</td>\n",
       "      <td>291.92948</td>\n",
       "      <td>0.295991</td>\n",
       "      <td>0.298748</td>\n",
       "      <td>5.746200</td>\n",
       "      <td>17.612928</td>\n",
       "      <td>61.215754</td>\n",
       "      <td>291.008087</td>\n",
       "      <td>19.425587</td>\n",
       "      <td>0.0</td>\n",
       "      <td>83.626097</td>\n",
       "      <td>0.0</td>\n",
       "      <td>19.723670</td>\n",
       "      <td>12.282058</td>\n",
       "      <td>83.626097</td>\n",
       "      <td>63.498198</td>\n",
       "      <td>0.211158</td>\n",
       "      <td>61.511745</td>\n",
       "      <td>291.306835</td>\n",
       "      <td>1.854759</td>\n",
       "      <td>-0.053736</td>\n",
       "      <td>360.18139</td>\n",
       "    </tr>\n",
       "    <tr>\n",
       "      <th>00000254_noNi_00002</th>\n",
       "      <td>-1316.755766</td>\n",
       "      <td>-1317.105372</td>\n",
       "      <td>-1317.113963</td>\n",
       "      <td>-1316.464139</td>\n",
       "      <td>-1316.813746</td>\n",
       "      <td>-1316.822336</td>\n",
       "      <td>0.276173</td>\n",
       "      <td>0.055905</td>\n",
       "      <td>-1.21</td>\n",
       "      <td>-4.180495</td>\n",
       "      <td>-5.390495</td>\n",
       "      <td>18.82</td>\n",
       "      <td>33.71</td>\n",
       "      <td>13.60</td>\n",
       "      <td>3.73</td>\n",
       "      <td>1.114191</td>\n",
       "      <td>1.269020</td>\n",
       "      <td>-0.773757</td>\n",
       "      <td>-0.209930</td>\n",
       "      <td>0.983687</td>\n",
       "      <td>-0.22309</td>\n",
       "      <td>0.01024</td>\n",
       "      <td>0.23333</td>\n",
       "      <td>-0.106425</td>\n",
       "      <td>0.024271</td>\n",
       "      <td>0.58489</td>\n",
       "      <td>0.17965</td>\n",
       "      <td>-0.17569</td>\n",
       "      <td>-0.35534</td>\n",
       "      <td>0.40920</td>\n",
       "      <td>-0.400347</td>\n",
       "      <td>-0.37996</td>\n",
       "      <td>1.948343</td>\n",
       "      <td>1.94817</td>\n",
       "      <td>0.170090</td>\n",
       "      <td>0.16136</td>\n",
       "      <td>0.050543</td>\n",
       "      <td>0.05098</td>\n",
       "      <td>0.45953</td>\n",
       "      <td>-0.29817</td>\n",
       "      <td>1.90332</td>\n",
       "      <td>47.10</td>\n",
       "      <td>414.3453</td>\n",
       "      <td>316.4415</td>\n",
       "      <td>361.5268</td>\n",
       "      <td>565.0678</td>\n",
       "      <td>-54.215525</td>\n",
       "      <td>0.864917</td>\n",
       "      <td>26.105095</td>\n",
       "      <td>3.265466</td>\n",
       "      <td>1.359813</td>\n",
       "      <td>1.306250</td>\n",
       "      <td>-2.666062</td>\n",
       "      <td>0.1017</td>\n",
       "      <td>-0.43597</td>\n",
       "      <td>0.838572</td>\n",
       "      <td>0.25830</td>\n",
       "      <td>0.85096</td>\n",
       "      <td>4.279618</td>\n",
       "      <td>5.441923</td>\n",
       "      <td>7.329471</td>\n",
       "      <td>4.279618</td>\n",
       "      <td>5.441923</td>\n",
       "      <td>7.329471</td>\n",
       "      <td>291.93161</td>\n",
       "      <td>0.300175</td>\n",
       "      <td>0.298745</td>\n",
       "      <td>5.753522</td>\n",
       "      <td>17.619849</td>\n",
       "      <td>61.231442</td>\n",
       "      <td>290.999833</td>\n",
       "      <td>19.430817</td>\n",
       "      <td>0.0</td>\n",
       "      <td>83.627217</td>\n",
       "      <td>0.0</td>\n",
       "      <td>19.730991</td>\n",
       "      <td>12.282058</td>\n",
       "      <td>83.627217</td>\n",
       "      <td>63.488360</td>\n",
       "      <td>0.211232</td>\n",
       "      <td>61.531617</td>\n",
       "      <td>291.298578</td>\n",
       "      <td>1.854761</td>\n",
       "      <td>-0.053740</td>\n",
       "      <td>360.16862</td>\n",
       "    </tr>\n",
       "    <tr>\n",
       "      <th>00000254_noNi_00003</th>\n",
       "      <td>-1316.755766</td>\n",
       "      <td>-1317.105375</td>\n",
       "      <td>-1317.113965</td>\n",
       "      <td>-1316.464143</td>\n",
       "      <td>-1316.813752</td>\n",
       "      <td>-1316.822342</td>\n",
       "      <td>0.276181</td>\n",
       "      <td>0.055905</td>\n",
       "      <td>-1.21</td>\n",
       "      <td>-4.180181</td>\n",
       "      <td>-5.390181</td>\n",
       "      <td>18.81</td>\n",
       "      <td>33.70</td>\n",
       "      <td>13.60</td>\n",
       "      <td>3.73</td>\n",
       "      <td>1.114249</td>\n",
       "      <td>1.268891</td>\n",
       "      <td>-0.773705</td>\n",
       "      <td>-0.209869</td>\n",
       "      <td>0.983575</td>\n",
       "      <td>-0.22309</td>\n",
       "      <td>0.01024</td>\n",
       "      <td>0.23333</td>\n",
       "      <td>-0.106425</td>\n",
       "      <td>0.024271</td>\n",
       "      <td>0.58488</td>\n",
       "      <td>0.17967</td>\n",
       "      <td>-0.17567</td>\n",
       "      <td>-0.35534</td>\n",
       "      <td>0.40921</td>\n",
       "      <td>-0.400340</td>\n",
       "      <td>-0.37995</td>\n",
       "      <td>1.948340</td>\n",
       "      <td>1.94816</td>\n",
       "      <td>0.170090</td>\n",
       "      <td>0.16136</td>\n",
       "      <td>0.050533</td>\n",
       "      <td>0.05097</td>\n",
       "      <td>0.45954</td>\n",
       "      <td>-0.29818</td>\n",
       "      <td>1.90333</td>\n",
       "      <td>47.11</td>\n",
       "      <td>414.3529</td>\n",
       "      <td>316.4514</td>\n",
       "      <td>361.5562</td>\n",
       "      <td>565.0512</td>\n",
       "      <td>-54.215527</td>\n",
       "      <td>0.864991</td>\n",
       "      <td>26.097381</td>\n",
       "      <td>3.265181</td>\n",
       "      <td>1.358991</td>\n",
       "      <td>1.306848</td>\n",
       "      <td>-2.665839</td>\n",
       "      <td>0.1017</td>\n",
       "      <td>-0.43597</td>\n",
       "      <td>0.838585</td>\n",
       "      <td>0.25833</td>\n",
       "      <td>0.85094</td>\n",
       "      <td>4.279948</td>\n",
       "      <td>5.441874</td>\n",
       "      <td>7.329358</td>\n",
       "      <td>4.279948</td>\n",
       "      <td>5.441874</td>\n",
       "      <td>7.329358</td>\n",
       "      <td>291.92527</td>\n",
       "      <td>0.298083</td>\n",
       "      <td>0.298739</td>\n",
       "      <td>5.745154</td>\n",
       "      <td>17.625580</td>\n",
       "      <td>61.228304</td>\n",
       "      <td>291.002933</td>\n",
       "      <td>19.426633</td>\n",
       "      <td>0.0</td>\n",
       "      <td>83.632593</td>\n",
       "      <td>0.0</td>\n",
       "      <td>19.724716</td>\n",
       "      <td>12.281012</td>\n",
       "      <td>83.632593</td>\n",
       "      <td>63.491106</td>\n",
       "      <td>0.211212</td>\n",
       "      <td>61.526387</td>\n",
       "      <td>291.301671</td>\n",
       "      <td>1.854763</td>\n",
       "      <td>-0.053736</td>\n",
       "      <td>360.16526</td>\n",
       "    </tr>\n",
       "  </tbody>\n",
       "</table>\n",
       "</div>"
      ],
      "text/plain": [
       "                            e_dz     e_tz_gas    e_tz_solv            g  \\\n",
       "00000254_Ni_00002   -1316.755766 -1317.105373 -1317.113963 -1316.464139   \n",
       "00000254_noNi_00000 -1316.755766 -1317.105374 -1317.113964 -1316.464140   \n",
       "00000254_noNi_00001 -1316.755765 -1317.105373 -1317.113963 -1316.464139   \n",
       "00000254_noNi_00002 -1316.755766 -1317.105372 -1317.113963 -1316.464139   \n",
       "00000254_noNi_00003 -1316.755766 -1317.105375 -1317.113965 -1316.464143   \n",
       "\n",
       "                        g_tz_gas    g_tz_solv  E_oxidation  E_reduction  \\\n",
       "00000254_Ni_00002   -1316.813747 -1316.822337     0.276180     0.055903   \n",
       "00000254_noNi_00000 -1316.813748 -1316.822338     0.276177     0.055904   \n",
       "00000254_noNi_00001 -1316.813747 -1316.822337     0.276180     0.055904   \n",
       "00000254_noNi_00002 -1316.813746 -1316.822336     0.276173     0.055905   \n",
       "00000254_noNi_00003 -1316.813752 -1316.822342     0.276181     0.055905   \n",
       "\n",
       "                     E_solv_cds  E_solv_elstat  E_solv_total  Pint_P_int  \\\n",
       "00000254_Ni_00002         -1.21      -4.180495     -5.390495       18.81   \n",
       "00000254_noNi_00000       -1.21      -4.180495     -5.390495       18.81   \n",
       "00000254_noNi_00001       -1.21      -4.180244     -5.390244       18.81   \n",
       "00000254_noNi_00002       -1.21      -4.180495     -5.390495       18.82   \n",
       "00000254_noNi_00003       -1.21      -4.180181     -5.390181       18.81   \n",
       "\n",
       "                     Pint_P_max  Pint_P_min  Pint_dP  dipolemoment  efg_amp_P  \\\n",
       "00000254_Ni_00002         33.62       13.62     3.73      1.114136   1.268936   \n",
       "00000254_noNi_00000       33.62       13.62     3.73      1.114109   1.268960   \n",
       "00000254_noNi_00001       33.67       13.62     3.73      1.114254   1.268892   \n",
       "00000254_noNi_00002       33.71       13.60     3.73      1.114191   1.269020   \n",
       "00000254_noNi_00003       33.70       13.60     3.73      1.114249   1.268891   \n",
       "\n",
       "                     efgtens_xx_P  efgtens_yy_P  efgtens_zz_P  fmo_e_homo  \\\n",
       "00000254_Ni_00002       -0.773727     -0.209885      0.983613    -0.22309   \n",
       "00000254_noNi_00000     -0.773726     -0.209912      0.983638    -0.22309   \n",
       "00000254_noNi_00001     -0.773720     -0.209849      0.983569    -0.22309   \n",
       "00000254_noNi_00002     -0.773757     -0.209930      0.983687    -0.22309   \n",
       "00000254_noNi_00003     -0.773705     -0.209869      0.983575    -0.22309   \n",
       "\n",
       "                     fmo_e_lumo  fmo_eta    fmo_mu  fmo_omega  fukui_m  \\\n",
       "00000254_Ni_00002       0.01023  0.23332 -0.106430   0.024274  0.58488   \n",
       "00000254_noNi_00000     0.01024  0.23333 -0.106425   0.024271  0.58489   \n",
       "00000254_noNi_00001     0.01024  0.23333 -0.106425   0.024271  0.58487   \n",
       "00000254_noNi_00002     0.01024  0.23333 -0.106425   0.024271  0.58489   \n",
       "00000254_noNi_00003     0.01024  0.23333 -0.106425   0.024271  0.58488   \n",
       "\n",
       "                     fukui_p    nbo_P  nbo_P_ra  nbo_P_rc  nbo_bd_e_avg  \\\n",
       "00000254_Ni_00002    0.17967 -0.17567  -0.35534   0.40921     -0.400347   \n",
       "00000254_noNi_00000  0.17965 -0.17568  -0.35533   0.40921     -0.400347   \n",
       "00000254_noNi_00001  0.17969 -0.17567  -0.35536   0.40920     -0.400340   \n",
       "00000254_noNi_00002  0.17965 -0.17569  -0.35534   0.40920     -0.400347   \n",
       "00000254_noNi_00003  0.17967 -0.17567  -0.35534   0.40921     -0.400340   \n",
       "\n",
       "                     nbo_bd_e_max  nbo_bd_occ_avg  nbo_bd_occ_min  \\\n",
       "00000254_Ni_00002        -0.37996        1.948340         1.94816   \n",
       "00000254_noNi_00000      -0.37996        1.948340         1.94816   \n",
       "00000254_noNi_00001      -0.37995        1.948340         1.94816   \n",
       "00000254_noNi_00002      -0.37996        1.948343         1.94817   \n",
       "00000254_noNi_00003      -0.37995        1.948340         1.94816   \n",
       "\n",
       "                     nbo_bds_e_avg  nbo_bds_e_min  nbo_bds_occ_avg  \\\n",
       "00000254_Ni_00002         0.170093        0.16136         0.050540   \n",
       "00000254_noNi_00000       0.170090        0.16136         0.050540   \n",
       "00000254_noNi_00001       0.170083        0.16135         0.050540   \n",
       "00000254_noNi_00002       0.170090        0.16136         0.050543   \n",
       "00000254_noNi_00003       0.170090        0.16136         0.050533   \n",
       "\n",
       "                     nbo_bds_occ_max  nbo_delta_lp_P_bds  nbo_lp_P_e  \\\n",
       "00000254_Ni_00002            0.05098             0.45954    -0.29818   \n",
       "00000254_noNi_00000          0.05098             0.45953    -0.29817   \n",
       "00000254_noNi_00001          0.05098             0.45953    -0.29818   \n",
       "00000254_noNi_00002          0.05098             0.45953    -0.29817   \n",
       "00000254_noNi_00003          0.05097             0.45954    -0.29818   \n",
       "\n",
       "                     nbo_lp_P_occ  nbo_lp_P_percent_s     nmr_P  \\\n",
       "00000254_Ni_00002         1.90333               47.11  414.3500   \n",
       "00000254_noNi_00000       1.90333               47.10  414.3446   \n",
       "00000254_noNi_00001       1.90333               47.11  414.3479   \n",
       "00000254_noNi_00002       1.90332               47.10  414.3453   \n",
       "00000254_noNi_00003       1.90333               47.11  414.3529   \n",
       "\n",
       "                     nmrtens_sxx_P  nmrtens_syy_P  nmrtens_szz_P    nuesp_P  \\\n",
       "00000254_Ni_00002         316.4525       361.5333       565.0643 -54.215525   \n",
       "00000254_noNi_00000       316.4511       361.5271       565.0555 -54.215527   \n",
       "00000254_noNi_00001       316.4472       361.5413       565.0551 -54.215525   \n",
       "00000254_noNi_00002       316.4415       361.5268       565.0678 -54.215525   \n",
       "00000254_noNi_00003       316.4514       361.5562       565.0512 -54.215527   \n",
       "\n",
       "                        pyr_P  pyr_alpha  qpole_amp  qpoletens_xx  \\\n",
       "00000254_Ni_00002    0.864967  26.099781   3.265226      1.359549   \n",
       "00000254_noNi_00000  0.864958  26.100683   3.265547      1.359504   \n",
       "00000254_noNi_00001  0.864985  26.097873   3.265132      1.359270   \n",
       "00000254_noNi_00002  0.864917  26.105095   3.265466      1.359813   \n",
       "00000254_noNi_00003  0.864991  26.097381   3.265181      1.358991   \n",
       "\n",
       "                     qpoletens_yy  qpoletens_zz  somo_ra  somo_rc  sphericity  \\\n",
       "00000254_Ni_00002        1.306320     -2.665869   0.1017 -0.43597    0.838606   \n",
       "00000254_noNi_00000      1.306630     -2.666133   0.1017 -0.43597    0.838610   \n",
       "00000254_noNi_00001      1.306526     -2.665795   0.1017 -0.43597    0.838598   \n",
       "00000254_noNi_00002      1.306250     -2.666062   0.1017 -0.43597    0.838572   \n",
       "00000254_noNi_00003      1.306848     -2.665839   0.1017 -0.43597    0.838585   \n",
       "\n",
       "                     spindens_P_ra  spindens_P_rc  sterimol_B1  sterimol_B5  \\\n",
       "00000254_Ni_00002          0.25832        0.85095     4.278460     5.441882   \n",
       "00000254_noNi_00000        0.25830        0.85095     4.278769     5.441890   \n",
       "00000254_noNi_00001        0.25835        0.85095     4.278931     5.441855   \n",
       "00000254_noNi_00002        0.25830        0.85096     4.279618     5.441923   \n",
       "00000254_noNi_00003        0.25833        0.85094     4.279948     5.441874   \n",
       "\n",
       "                     sterimol_L  sterimol_burB1  sterimol_burB5  \\\n",
       "00000254_Ni_00002      7.329448        4.278460        5.441882   \n",
       "00000254_noNi_00000    7.329427        4.278769        5.441890   \n",
       "00000254_noNi_00001    7.329355        4.278931        5.441855   \n",
       "00000254_noNi_00002    7.329471        4.279618        5.441923   \n",
       "00000254_noNi_00003    7.329358        4.279948        5.441874   \n",
       "\n",
       "                     sterimol_burL  surface_area  vbur_far_vbur  \\\n",
       "00000254_Ni_00002         7.329448     291.92983       0.295991   \n",
       "00000254_noNi_00000       7.329427     291.92944       0.295991   \n",
       "00000254_noNi_00001       7.329355     291.92948       0.295991   \n",
       "00000254_noNi_00002       7.329471     291.93161       0.300175   \n",
       "00000254_noNi_00003       7.329358     291.92527       0.298083   \n",
       "\n",
       "                     vbur_far_vtot  vbur_max_delta_qvbur  \\\n",
       "00000254_Ni_00002         0.298747              5.750384   \n",
       "00000254_noNi_00000       0.298744              5.750384   \n",
       "00000254_noNi_00001       0.298748              5.746200   \n",
       "00000254_noNi_00002       0.298745              5.753522   \n",
       "00000254_noNi_00003       0.298739              5.745154   \n",
       "\n",
       "                     vbur_max_delta_qvtot  vbur_near_vbur  vbur_near_vtot  \\\n",
       "00000254_Ni_00002               17.618987       61.215754      291.004415   \n",
       "00000254_noNi_00000             17.616726       61.218891      291.004706   \n",
       "00000254_noNi_00001             17.612928       61.215754      291.008087   \n",
       "00000254_noNi_00002             17.619849       61.231442      290.999833   \n",
       "00000254_noNi_00003             17.625580       61.228304      291.002933   \n",
       "\n",
       "                     vbur_ovbur_max  vbur_ovbur_min  vbur_ovtot_max  \\\n",
       "00000254_Ni_00002         19.428725             0.0       83.626934   \n",
       "00000254_noNi_00000       19.428725             0.0       83.626866   \n",
       "00000254_noNi_00001       19.425587             0.0       83.626097   \n",
       "00000254_noNi_00002       19.430817             0.0       83.627217   \n",
       "00000254_noNi_00003       19.426633             0.0       83.632593   \n",
       "\n",
       "                     vbur_ovtot_min  vbur_qvbur_max  vbur_qvbur_min  \\\n",
       "00000254_Ni_00002               0.0       19.727854       12.282058   \n",
       "00000254_noNi_00000             0.0       19.727854       12.282058   \n",
       "00000254_noNi_00001             0.0       19.723670       12.282058   \n",
       "00000254_noNi_00002             0.0       19.730991       12.282058   \n",
       "00000254_noNi_00003             0.0       19.724716       12.281012   \n",
       "\n",
       "                     vbur_qvtot_max  vbur_qvtot_min  vbur_ratio_vbur_vtot  \\\n",
       "00000254_Ni_00002         83.626934       63.493997              0.211161   \n",
       "00000254_noNi_00000       83.626866       63.492157              0.211171   \n",
       "00000254_noNi_00001       83.626097       63.498198              0.211158   \n",
       "00000254_noNi_00002       83.627217       63.488360              0.211232   \n",
       "00000254_noNi_00003       83.632593       63.491106              0.211212   \n",
       "\n",
       "                     vbur_vbur   vbur_vtot    vmin_r  vmin_vmin     volume  \n",
       "00000254_Ni_00002    61.511745  291.303162  1.854765  -0.053736  360.18708  \n",
       "00000254_noNi_00000  61.514882  291.303449  1.854762  -0.053739  360.18900  \n",
       "00000254_noNi_00001  61.511745  291.306835  1.854759  -0.053736  360.18139  \n",
       "00000254_noNi_00002  61.531617  291.298578  1.854761  -0.053740  360.16862  \n",
       "00000254_noNi_00003  61.526387  291.301671  1.854763  -0.053736  360.16526  "
      ]
     },
     "execution_count": 24,
     "metadata": {},
     "output_type": "execute_result"
    }
   ],
   "source": [
    "from kraken_utils import featurize_ligand\n",
    "featurize_ligand(id=254)"
   ]
  },
  {
   "cell_type": "markdown",
   "metadata": {},
   "source": [
    "### For a given conformer, write a .xyz file to visualize structure"
   ]
  },
  {
   "cell_type": "code",
   "execution_count": 25,
   "metadata": {},
   "outputs": [
    {
     "name": "stdout",
     "output_type": "stream",
     "text": [
      "40\n",
      "254 00000254_Ni_00002\n",
      "C -0.389864 2.062458 1.463597\n",
      "C 0.006931 2.072763 -0.021838\n",
      "C 1.420254 2.666624 -0.171078\n",
      "C -0.979677 2.950146 -0.819358\n",
      "P -0.00254 0.335035 -0.867726\n",
      "Si 1.780311 -0.811652 -0.023149\n",
      "C 2.147024 -0.61129 1.833457\n",
      "C 3.327274 -0.298964 -1.000039\n",
      "C 1.504305 -2.659285 -0.371826\n",
      "Si -1.782073 -0.811586 -0.016879\n",
      "C -2.045323 -2.296006 -1.171077\n",
      "C -3.358279 0.246226 -0.133177\n",
      "C -1.622663 -1.44406 1.770628\n",
      "H -0.332079 3.088939 1.874494\n",
      "H -1.423324 1.709087 1.607706\n",
      "H 0.276535 1.420838 2.059895\n",
      "H 1.765705 2.635097 -1.218025\n",
      "H 1.4131 3.724073 0.1534\n",
      "H 2.157204 2.13512 0.452646\n",
      "H -2.010037 2.566063 -0.762665\n",
      "H -0.979719 3.977733 -0.408983\n",
      "H -0.694943 3.003605 -1.88288\n",
      "H 1.280753 -0.886847 2.455781\n",
      "H 2.987608 -1.274882 2.10514\n",
      "H 2.44111 0.419185 2.090769\n",
      "H 3.162129 -0.437449 -2.081297\n",
      "H 4.183366 -0.928338 -0.698498\n",
      "H 3.603623 0.753798 -0.832212\n",
      "H 0.708198 -3.094061 0.253117\n",
      "H 2.439649 -3.203876 -0.152426\n",
      "H 1.251112 -2.836797 -1.429824\n",
      "H -2.185504 -1.954788 -2.20994\n",
      "H -1.200329 -3.001096 -1.156442\n",
      "H -2.952629 -2.845473 -0.86356\n",
      "H -3.503231 0.634118 -1.154872\n",
      "H -3.361341 1.09892 0.56432\n",
      "H -4.226308 -0.390959 0.113335\n",
      "H -0.783883 -2.150754 1.877971\n",
      "H -1.465981 -0.619202 2.484034\n",
      "H -2.547902 -1.973915 2.059584\n",
      "\n"
     ]
    }
   ],
   "source": [
    "from kraken_utils import fetch_xyz\n",
    "xyz = fetch_xyz(id=254, conf_name='00000254_Ni_00002', file_path=None, metal='Ni')\n",
    "# add file_path if want to save and open with softwares like avogadro\n",
    "# metal='Pd' uses Pd to calculate some params\n",
    "\n",
    "print(xyz)"
   ]
  },
  {
   "cell_type": "code",
   "execution_count": 26,
   "metadata": {},
   "outputs": [
    {
     "ename": "ModuleNotFoundError",
     "evalue": "No module named 'py3Dmol'",
     "output_type": "error",
     "traceback": [
      "\u001B[0;31m---------------------------------------------------------------------------\u001B[0m",
      "\u001B[0;31mModuleNotFoundError\u001B[0m                       Traceback (most recent call last)",
      "\u001B[0;32m<ipython-input-26-91cbbcae9683>\u001B[0m in \u001B[0;36m<module>\u001B[0;34m\u001B[0m\n\u001B[0;32m----> 1\u001B[0;31m \u001B[0;32mimport\u001B[0m \u001B[0mpy3Dmol\u001B[0m\u001B[0;34m\u001B[0m\u001B[0;34m\u001B[0m\u001B[0m\n\u001B[0m\u001B[1;32m      2\u001B[0m \u001B[0mxyzview\u001B[0m \u001B[0;34m=\u001B[0m \u001B[0mpy3Dmol\u001B[0m\u001B[0;34m.\u001B[0m\u001B[0mview\u001B[0m\u001B[0;34m(\u001B[0m\u001B[0mwidth\u001B[0m\u001B[0;34m=\u001B[0m\u001B[0;36m400\u001B[0m\u001B[0;34m,\u001B[0m\u001B[0mheight\u001B[0m\u001B[0;34m=\u001B[0m\u001B[0;36m400\u001B[0m\u001B[0;34m)\u001B[0m\u001B[0;34m\u001B[0m\u001B[0;34m\u001B[0m\u001B[0m\n\u001B[1;32m      3\u001B[0m \u001B[0mxyzview\u001B[0m\u001B[0;34m.\u001B[0m\u001B[0maddModel\u001B[0m\u001B[0;34m(\u001B[0m\u001B[0mxyz\u001B[0m\u001B[0;34m,\u001B[0m\u001B[0;34m'xyz'\u001B[0m\u001B[0;34m,\u001B[0m\u001B[0;34m{\u001B[0m\u001B[0;34m'vibrate'\u001B[0m\u001B[0;34m:\u001B[0m \u001B[0;34m{\u001B[0m\u001B[0;34m'frames'\u001B[0m\u001B[0;34m:\u001B[0m\u001B[0;36m10\u001B[0m\u001B[0;34m,\u001B[0m\u001B[0;34m'amplitude'\u001B[0m\u001B[0;34m:\u001B[0m\u001B[0;36m1\u001B[0m\u001B[0;34m}\u001B[0m\u001B[0;34m}\u001B[0m\u001B[0;34m)\u001B[0m\u001B[0;34m\u001B[0m\u001B[0;34m\u001B[0m\u001B[0m\n\u001B[1;32m      4\u001B[0m \u001B[0mxyzview\u001B[0m\u001B[0;34m.\u001B[0m\u001B[0msetStyle\u001B[0m\u001B[0;34m(\u001B[0m\u001B[0;34m{\u001B[0m\u001B[0;34m'stick'\u001B[0m\u001B[0;34m:\u001B[0m\u001B[0;34m{\u001B[0m\u001B[0;34m}\u001B[0m\u001B[0;34m}\u001B[0m\u001B[0;34m)\u001B[0m\u001B[0;34m\u001B[0m\u001B[0;34m\u001B[0m\u001B[0m\n\u001B[1;32m      5\u001B[0m \u001B[0mxyzview\u001B[0m\u001B[0;34m.\u001B[0m\u001B[0msetBackgroundColor\u001B[0m\u001B[0;34m(\u001B[0m\u001B[0;34m'0xeeeeee'\u001B[0m\u001B[0;34m)\u001B[0m\u001B[0;34m\u001B[0m\u001B[0;34m\u001B[0m\u001B[0m\n",
      "\u001B[0;31mModuleNotFoundError\u001B[0m: No module named 'py3Dmol'"
     ]
    }
   ],
   "source": [
    "import py3Dmol\n",
    "xyzview = py3Dmol.view(width=400,height=400)\n",
    "xyzview.addModel(xyz,'xyz',{'vibrate': {'frames':10,'amplitude':1}})\n",
    "xyzview.setStyle({'stick':{}})\n",
    "xyzview.setBackgroundColor('0xeeeeee')\n",
    "xyzview.animate({'loop': 'backAndForth'})\n",
    "xyzview.zoomTo()\n",
    "xyzview.show()"
   ]
  },
  {
   "cell_type": "markdown",
   "metadata": {},
   "source": [
    "### Note: most of these functions have a verbose parameter, verbose=0 suppresses outputs "
   ]
  },
  {
   "cell_type": "code",
   "execution_count": null,
   "metadata": {},
   "outputs": [],
   "source": []
  }
 ],
 "metadata": {
  "kernelspec": {
   "display_name": "Python 3",
   "language": "python",
   "name": "python3"
  },
  "language_info": {
   "codemirror_mode": {
    "name": "ipython",
    "version": 3
   },
   "file_extension": ".py",
   "mimetype": "text/x-python",
   "name": "python",
   "nbconvert_exporter": "python",
   "pygments_lexer": "ipython3",
   "version": "3.7.7"
  }
 },
 "nbformat": 4,
 "nbformat_minor": 1
}