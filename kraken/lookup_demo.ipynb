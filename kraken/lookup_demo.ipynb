{
 "cells": [
  {
   "cell_type": "markdown",
   "source": [
    "## Searching for ID\n",
    "\n",
    "Search priority:\n",
    "\n",
    "1. CAS number\n",
    "2. name (exact match)\n",
    "3. name (partial match)\n",
    "4. smiles (exact match)\n",
    "5. smiles (atom count, mw, formula)\n",
    "\n",
    "at least provide information for one of the three areas"
   ],
   "metadata": {
    "collapsed": false
   }
  },
  {
   "cell_type": "code",
   "execution_count": 10,
   "metadata": {
    "collapsed": true
   },
   "outputs": [],
   "source": [
    "from lookup import lookup_kraken"
   ]
  },
  {
   "cell_type": "code",
   "execution_count": 11,
   "outputs": [
    {
     "name": "stdout",
     "output_type": "stream",
     "text": [
      "Found result by ligand name\n"
     ]
    },
    {
     "data": {
      "text/plain": "        ligand   id                                         can_smiles\n101  BrettPhos  102  COc1ccc(OC)c(P(C2CCCCC2)C2CCCCC2)c1-c1c(C(C)C)...",
      "text/html": "<div>\n<style scoped>\n    .dataframe tbody tr th:only-of-type {\n        vertical-align: middle;\n    }\n\n    .dataframe tbody tr th {\n        vertical-align: top;\n    }\n\n    .dataframe thead th {\n        text-align: right;\n    }\n</style>\n<table border=\"1\" class=\"dataframe\">\n  <thead>\n    <tr style=\"text-align: right;\">\n      <th></th>\n      <th>ligand</th>\n      <th>id</th>\n      <th>can_smiles</th>\n    </tr>\n  </thead>\n  <tbody>\n    <tr>\n      <th>101</th>\n      <td>BrettPhos</td>\n      <td>102</td>\n      <td>COc1ccc(OC)c(P(C2CCCCC2)C2CCCCC2)c1-c1c(C(C)C)...</td>\n    </tr>\n  </tbody>\n</table>\n</div>"
     },
     "execution_count": 11,
     "metadata": {},
     "output_type": "execute_result"
    }
   ],
   "source": [
    "lookup_kraken(name='bReTtPHOs')"
   ],
   "metadata": {
    "collapsed": false,
    "pycharm": {
     "name": "#%%\n"
    }
   }
  },
  {
   "cell_type": "code",
   "execution_count": 12,
   "outputs": [
    {
     "name": "stdout",
     "output_type": "stream",
     "text": [
      "Found result by ligand name\n"
     ]
    },
    {
     "data": {
      "text/plain": "  ligand  id                                        can_smiles\n1  CPhos   2  CN(C)c1cccc(N(C)C)c1-c1ccccc1P(C1CCCCC1)C1CCCCC1",
      "text/html": "<div>\n<style scoped>\n    .dataframe tbody tr th:only-of-type {\n        vertical-align: middle;\n    }\n\n    .dataframe tbody tr th {\n        vertical-align: top;\n    }\n\n    .dataframe thead th {\n        text-align: right;\n    }\n</style>\n<table border=\"1\" class=\"dataframe\">\n  <thead>\n    <tr style=\"text-align: right;\">\n      <th></th>\n      <th>ligand</th>\n      <th>id</th>\n      <th>can_smiles</th>\n    </tr>\n  </thead>\n  <tbody>\n    <tr>\n      <th>1</th>\n      <td>CPhos</td>\n      <td>2</td>\n      <td>CN(C)c1cccc(N(C)C)c1-c1ccccc1P(C1CCCCC1)C1CCCCC1</td>\n    </tr>\n  </tbody>\n</table>\n</div>"
     },
     "execution_count": 12,
     "metadata": {},
     "output_type": "execute_result"
    }
   ],
   "source": [
    "lookup_kraken(name='cphos')"
   ],
   "metadata": {
    "collapsed": false,
    "pycharm": {
     "name": "#%%\n"
    }
   }
  },
  {
   "cell_type": "code",
   "execution_count": 14,
   "outputs": [
    {
     "name": "stdout",
     "output_type": "stream",
     "text": [
      "Found result by ligand name\n"
     ]
    },
    {
     "data": {
      "text/plain": "   ligand  id                     can_smiles\n16   PPh3  17  c1ccc(P(c2ccccc2)c2ccccc2)cc1",
      "text/html": "<div>\n<style scoped>\n    .dataframe tbody tr th:only-of-type {\n        vertical-align: middle;\n    }\n\n    .dataframe tbody tr th {\n        vertical-align: top;\n    }\n\n    .dataframe thead th {\n        text-align: right;\n    }\n</style>\n<table border=\"1\" class=\"dataframe\">\n  <thead>\n    <tr style=\"text-align: right;\">\n      <th></th>\n      <th>ligand</th>\n      <th>id</th>\n      <th>can_smiles</th>\n    </tr>\n  </thead>\n  <tbody>\n    <tr>\n      <th>16</th>\n      <td>PPh3</td>\n      <td>17</td>\n      <td>c1ccc(P(c2ccccc2)c2ccccc2)cc1</td>\n    </tr>\n  </tbody>\n</table>\n</div>"
     },
     "execution_count": 14,
     "metadata": {},
     "output_type": "execute_result"
    }
   ],
   "source": [
    "lookup_kraken(name='pph3')"
   ],
   "metadata": {
    "collapsed": false,
    "pycharm": {
     "name": "#%%\n"
    }
   }
  },
  {
   "cell_type": "code",
   "execution_count": 7,
   "outputs": [
    {
     "name": "stdout",
     "output_type": "stream",
     "text": [
      "No exact match found, here are some possibilities\n"
     ]
    },
    {
     "data": {
      "text/plain": "                      ligand    id  \\\n325            o-MeO-KitPhos   326   \n1127  PPh2(Me2tBu2Xanthenyl)  1128   \n\n                                             can_smiles  \n325   COc1ccccc1C1=C(P(C2CCCCC2)C2CCCCC2)[C@H]2c3ccc...  \n1127  CC(C)(C)c1ccc2c(c1)C(C)(C)c1cc(C(C)(C)C)cc(P(c...  ",
      "text/html": "<div>\n<style scoped>\n    .dataframe tbody tr th:only-of-type {\n        vertical-align: middle;\n    }\n\n    .dataframe tbody tr th {\n        vertical-align: top;\n    }\n\n    .dataframe thead th {\n        text-align: right;\n    }\n</style>\n<table border=\"1\" class=\"dataframe\">\n  <thead>\n    <tr style=\"text-align: right;\">\n      <th></th>\n      <th>ligand</th>\n      <th>id</th>\n      <th>can_smiles</th>\n    </tr>\n  </thead>\n  <tbody>\n    <tr>\n      <th>325</th>\n      <td>o-MeO-KitPhos</td>\n      <td>326</td>\n      <td>COc1ccccc1C1=C(P(C2CCCCC2)C2CCCCC2)[C@H]2c3ccc...</td>\n    </tr>\n    <tr>\n      <th>1127</th>\n      <td>PPh2(Me2tBu2Xanthenyl)</td>\n      <td>1128</td>\n      <td>CC(C)(C)c1ccc2c(c1)C(C)(C)c1cc(C(C)(C)C)cc(P(c...</td>\n    </tr>\n  </tbody>\n</table>\n</div>"
     },
     "execution_count": 7,
     "metadata": {},
     "output_type": "execute_result"
    }
   ],
   "source": [
    "lookup_kraken(smiles='COc1ccccc1C1=C(P(C2CCCCC2)C2CCCCC2)C2c3ccccc3C1c1ccccc12')"
   ],
   "metadata": {
    "collapsed": false,
    "pycharm": {
     "name": "#%%\n"
    }
   }
  },
  {
   "cell_type": "code",
   "execution_count": 9,
   "outputs": [
    {
     "name": "stdout",
     "output_type": "stream",
     "text": [
      "Found result by smiles\n"
     ]
    },
    {
     "data": {
      "text/plain": "           ligand   id                                         can_smiles\n326  Cy-BippyPhos  327  c1ccc(-c2nn(-c3ccccc3)c(-c3ccccc3)c2-n2nccc2P(...",
      "text/html": "<div>\n<style scoped>\n    .dataframe tbody tr th:only-of-type {\n        vertical-align: middle;\n    }\n\n    .dataframe tbody tr th {\n        vertical-align: top;\n    }\n\n    .dataframe thead th {\n        text-align: right;\n    }\n</style>\n<table border=\"1\" class=\"dataframe\">\n  <thead>\n    <tr style=\"text-align: right;\">\n      <th></th>\n      <th>ligand</th>\n      <th>id</th>\n      <th>can_smiles</th>\n    </tr>\n  </thead>\n  <tbody>\n    <tr>\n      <th>326</th>\n      <td>Cy-BippyPhos</td>\n      <td>327</td>\n      <td>c1ccc(-c2nn(-c3ccccc3)c(-c3ccccc3)c2-n2nccc2P(...</td>\n    </tr>\n  </tbody>\n</table>\n</div>"
     },
     "execution_count": 9,
     "metadata": {},
     "output_type": "execute_result"
    }
   ],
   "source": [
    "lookup_kraken(smiles='c1ccc(-c2nn(-c3ccccc3)c(-c3ccccc3)c2-n2nccc2P(C2CCCCC2)C2CCCCC2)cc1')"
   ],
   "metadata": {
    "collapsed": false,
    "pycharm": {
     "name": "#%%\n"
    }
   }
  },
  {
   "cell_type": "code",
   "execution_count": 16,
   "outputs": [
    {
     "name": "stdout",
     "output_type": "stream",
     "text": [
      "No matches found. This ligand is possibly not in kraken.\n"
     ]
    }
   ],
   "source": [
    "lookup_kraken(smiles='CCOCC')"
   ],
   "metadata": {
    "collapsed": false,
    "pycharm": {
     "name": "#%%\n"
    }
   }
  },
  {
   "cell_type": "code",
   "execution_count": 17,
   "outputs": [
    {
     "name": "stdout",
     "output_type": "stream",
     "text": [
      "Found result by CAS number\n"
     ]
    },
    {
     "data": {
      "text/plain": "    ligand  id                      can_smiles\n18  PBnPh2  19  c1ccc(CP(c2ccccc2)c2ccccc2)cc1",
      "text/html": "<div>\n<style scoped>\n    .dataframe tbody tr th:only-of-type {\n        vertical-align: middle;\n    }\n\n    .dataframe tbody tr th {\n        vertical-align: top;\n    }\n\n    .dataframe thead th {\n        text-align: right;\n    }\n</style>\n<table border=\"1\" class=\"dataframe\">\n  <thead>\n    <tr style=\"text-align: right;\">\n      <th></th>\n      <th>ligand</th>\n      <th>id</th>\n      <th>can_smiles</th>\n    </tr>\n  </thead>\n  <tbody>\n    <tr>\n      <th>18</th>\n      <td>PBnPh2</td>\n      <td>19</td>\n      <td>c1ccc(CP(c2ccccc2)c2ccccc2)cc1</td>\n    </tr>\n  </tbody>\n</table>\n</div>"
     },
     "execution_count": 17,
     "metadata": {},
     "output_type": "execute_result"
    }
   ],
   "source": [
    "lookup_kraken(cas='63832-86-0')"
   ],
   "metadata": {
    "collapsed": false,
    "pycharm": {
     "name": "#%%\n"
    }
   }
  },
  {
   "cell_type": "code",
   "execution_count": 20,
   "outputs": [
    {
     "name": "stdout",
     "output_type": "stream",
     "text": [
      "Found result by CAS number\n"
     ]
    },
    {
     "data": {
      "text/plain": "    ligand  id                      can_smiles\n18  PBnPh2  19  c1ccc(CP(c2ccccc2)c2ccccc2)cc1",
      "text/html": "<div>\n<style scoped>\n    .dataframe tbody tr th:only-of-type {\n        vertical-align: middle;\n    }\n\n    .dataframe tbody tr th {\n        vertical-align: top;\n    }\n\n    .dataframe thead th {\n        text-align: right;\n    }\n</style>\n<table border=\"1\" class=\"dataframe\">\n  <thead>\n    <tr style=\"text-align: right;\">\n      <th></th>\n      <th>ligand</th>\n      <th>id</th>\n      <th>can_smiles</th>\n    </tr>\n  </thead>\n  <tbody>\n    <tr>\n      <th>18</th>\n      <td>PBnPh2</td>\n      <td>19</td>\n      <td>c1ccc(CP(c2ccccc2)c2ccccc2)cc1</td>\n    </tr>\n  </tbody>\n</table>\n</div>"
     },
     "execution_count": 20,
     "metadata": {},
     "output_type": "execute_result"
    }
   ],
   "source": [
    "# if match for higher priority term is found, the rest are ignored\n",
    "lookup_kraken(cas='63832-86-0', name='jason', smiles='jason')"
   ],
   "metadata": {
    "collapsed": false,
    "pycharm": {
     "name": "#%%\n"
    }
   }
  },
  {
   "cell_type": "code",
   "source": [
    "lookup_kraken(cas='000-00-0', name='cYjOHnPhOS', smiles='jason')"
   ],
   "metadata": {
    "collapsed": false,
    "pycharm": {
     "name": "#%%\n"
    }
   },
   "execution_count": 21,
   "outputs": [
    {
     "name": "stdout",
     "output_type": "stream",
     "text": [
      "Found result by ligand name\n"
     ]
    },
    {
     "data": {
      "text/plain": "       ligand  id                              can_smiles\n4  CyJohnPhos   5  c1ccc(-c2ccccc2P(C2CCCCC2)C2CCCCC2)cc1",
      "text/html": "<div>\n<style scoped>\n    .dataframe tbody tr th:only-of-type {\n        vertical-align: middle;\n    }\n\n    .dataframe tbody tr th {\n        vertical-align: top;\n    }\n\n    .dataframe thead th {\n        text-align: right;\n    }\n</style>\n<table border=\"1\" class=\"dataframe\">\n  <thead>\n    <tr style=\"text-align: right;\">\n      <th></th>\n      <th>ligand</th>\n      <th>id</th>\n      <th>can_smiles</th>\n    </tr>\n  </thead>\n  <tbody>\n    <tr>\n      <th>4</th>\n      <td>CyJohnPhos</td>\n      <td>5</td>\n      <td>c1ccc(-c2ccccc2P(C2CCCCC2)C2CCCCC2)cc1</td>\n    </tr>\n  </tbody>\n</table>\n</div>"
     },
     "execution_count": 21,
     "metadata": {},
     "output_type": "execute_result"
    }
   ]
  },
  {
   "cell_type": "markdown",
   "source": [
    "## Retrive data from Kraken with ID"
   ],
   "metadata": {
    "collapsed": false
   }
  },
  {
   "cell_type": "code",
   "execution_count": 1,
   "outputs": [
    {
     "data": {
      "text/plain": "   id      ligand                              can_smiles  \\\n4   5  CyJohnPhos  c1ccc(-c2ccccc2P(C2CCCCC2)C2CCCCC2)cc1   \n\n                                  smiles  \\\n4  C1CCC(CC1)P(c1ccccc1c1ccccc1)C1CCCCC1   \n\n                        smiles(dft_sheet)  vmin_vmin_boltz  vmin_r_boltz  \\\n4  c1ccc(-c2ccccc2P(C2CCCCC2)C2CCCCC2)cc1        -0.061351      1.816461   \n\n   fmo_e_homo_boltz  fmo_e_lumo_boltz  fmo_mu_boltz  ...  CPO  P[N]3  P(OR)3  \\\n4         -0.218842         -0.030145     -0.124494  ...  0.0    0.0     0.0   \n\n   Phosphoramidite  PON2  PXY  [Fe]  Buchwald  PPhR2  Cy2PR  \n4              0.0   0.0  0.0   0.0       1.0    0.0    1.0  \n\n[1 rows x 224 columns]",
      "text/html": "<div>\n<style scoped>\n    .dataframe tbody tr th:only-of-type {\n        vertical-align: middle;\n    }\n\n    .dataframe tbody tr th {\n        vertical-align: top;\n    }\n\n    .dataframe thead th {\n        text-align: right;\n    }\n</style>\n<table border=\"1\" class=\"dataframe\">\n  <thead>\n    <tr style=\"text-align: right;\">\n      <th></th>\n      <th>id</th>\n      <th>ligand</th>\n      <th>can_smiles</th>\n      <th>smiles</th>\n      <th>smiles(dft_sheet)</th>\n      <th>vmin_vmin_boltz</th>\n      <th>vmin_r_boltz</th>\n      <th>fmo_e_homo_boltz</th>\n      <th>fmo_e_lumo_boltz</th>\n      <th>fmo_mu_boltz</th>\n      <th>...</th>\n      <th>CPO</th>\n      <th>P[N]3</th>\n      <th>P(OR)3</th>\n      <th>Phosphoramidite</th>\n      <th>PON2</th>\n      <th>PXY</th>\n      <th>[Fe]</th>\n      <th>Buchwald</th>\n      <th>PPhR2</th>\n      <th>Cy2PR</th>\n    </tr>\n  </thead>\n  <tbody>\n    <tr>\n      <th>4</th>\n      <td>5</td>\n      <td>CyJohnPhos</td>\n      <td>c1ccc(-c2ccccc2P(C2CCCCC2)C2CCCCC2)cc1</td>\n      <td>C1CCC(CC1)P(c1ccccc1c1ccccc1)C1CCCCC1</td>\n      <td>c1ccc(-c2ccccc2P(C2CCCCC2)C2CCCCC2)cc1</td>\n      <td>-0.061351</td>\n      <td>1.816461</td>\n      <td>-0.218842</td>\n      <td>-0.030145</td>\n      <td>-0.124494</td>\n      <td>...</td>\n      <td>0.0</td>\n      <td>0.0</td>\n      <td>0.0</td>\n      <td>0.0</td>\n      <td>0.0</td>\n      <td>0.0</td>\n      <td>0.0</td>\n      <td>1.0</td>\n      <td>0.0</td>\n      <td>1.0</td>\n    </tr>\n  </tbody>\n</table>\n<p>1 rows × 224 columns</p>\n</div>"
     },
     "execution_count": 1,
     "metadata": {},
     "output_type": "execute_result"
    }
   ],
   "source": [
    "import pandas as pd\n",
    "df = pd.read_csv('kraken.csv')\n",
    "df[df['id'] == 5]"
   ],
   "metadata": {
    "collapsed": false,
    "pycharm": {
     "name": "#%%\n"
    }
   }
  },
  {
   "cell_type": "code",
   "execution_count": null,
   "outputs": [],
   "source": [],
   "metadata": {
    "collapsed": false,
    "pycharm": {
     "name": "#%%\n"
    }
   }
  }
 ],
 "metadata": {
  "kernelspec": {
   "display_name": "Python 3",
   "language": "python",
   "name": "python3"
  },
  "language_info": {
   "codemirror_mode": {
    "name": "ipython",
    "version": 2
   },
   "file_extension": ".py",
   "mimetype": "text/x-python",
   "name": "python",
   "nbconvert_exporter": "python",
   "pygments_lexer": "ipython2",
   "version": "2.7.6"
  }
 },
 "nbformat": 4,
 "nbformat_minor": 0
}