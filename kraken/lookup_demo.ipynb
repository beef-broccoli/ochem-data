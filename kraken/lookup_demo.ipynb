{
 "cells": [
  {
   "cell_type": "markdown",
   "source": [
    "## Searching for ID\n",
    "\n",
    "Search priority:\n",
    "\n",
    "1. CAS number\n",
    "2. name (exact match)\n",
    "3. name (partial match)\n",
    "4. smiles (exact match)\n",
    "5. smiles (atom count, mw, formula)\n",
    "6. inchi\n",
    "7. key words\n",
    "\n",
    "at least provide information for one of the three areas"
   ],
   "metadata": {
    "collapsed": false
   }
  },
  {
   "cell_type": "code",
   "execution_count": 1,
   "metadata": {
    "collapsed": true
   },
   "outputs": [],
   "source": [
    "from lookup import lookup_kraken"
   ]
  },
  {
   "cell_type": "code",
   "execution_count": 2,
   "outputs": [
    {
     "name": "stdout",
     "output_type": "stream",
     "text": [
      "No exact match found, here are some possibilities\n"
     ]
    },
    {
     "data": {
      "text/plain": "                                                 ligand    id  \\\n88                                         tBuBrettPhos    89   \n101                                           BrettPhos   102   \n103                    JackiePhos = (35CF3)2PhBrettPhos   104   \n104                                        CF3BrettPhos   105   \n346                                         AdBrettPhos   347   \n362   CBrettJackie P(3,5-(CF3)2-Ph)2(3,6-OMe2-2-(2,6...   363   \n363   RuBrettJackie P(3,5-(CF3)2-Ph)2(3,6-OMe2-2-(2,...   364   \n1275                                  AdCyBrettPhos (S)  1276   \n\n                                             can_smiles  \n88    COc1ccc(OC)c(P(C(C)(C)C)C(C)(C)C)c1-c1c(C(C)C)...  \n101   COc1ccc(OC)c(P(C2CCCCC2)C2CCCCC2)c1-c1c(C(C)C)...  \n103   COc1ccc(OC)c(P(c2cc(C(F)(F)F)cc(C(F)(F)F)c2)c2...  \n104   COc1ccc(OC)c(P(C(F)(F)F)C(F)(F)F)c1-c1c(C(C)C)...  \n346   COc1ccc(c(c1c1c(cc(cc1C(C)C)C(C)C)C(C)C)P(C12C...  \n362   COc1ccc(OC)c(P(c2cc(C(F)(F)F)cc(C(F)(F)F)c2)c2...  \n363   COc1ccc(OC)c(P(c2cc(C(F)(F)F)cc(C(F)(F)F)c2)c2...  \n1275  COc1ccc(c(c1c1c(cc(cc1C(C)C)C(C)C)C(C)C)P(C12C...  ",
      "text/html": "<div>\n<style scoped>\n    .dataframe tbody tr th:only-of-type {\n        vertical-align: middle;\n    }\n\n    .dataframe tbody tr th {\n        vertical-align: top;\n    }\n\n    .dataframe thead th {\n        text-align: right;\n    }\n</style>\n<table border=\"1\" class=\"dataframe\">\n  <thead>\n    <tr style=\"text-align: right;\">\n      <th></th>\n      <th>ligand</th>\n      <th>id</th>\n      <th>can_smiles</th>\n    </tr>\n  </thead>\n  <tbody>\n    <tr>\n      <th>88</th>\n      <td>tBuBrettPhos</td>\n      <td>89</td>\n      <td>COc1ccc(OC)c(P(C(C)(C)C)C(C)(C)C)c1-c1c(C(C)C)...</td>\n    </tr>\n    <tr>\n      <th>101</th>\n      <td>BrettPhos</td>\n      <td>102</td>\n      <td>COc1ccc(OC)c(P(C2CCCCC2)C2CCCCC2)c1-c1c(C(C)C)...</td>\n    </tr>\n    <tr>\n      <th>103</th>\n      <td>JackiePhos = (35CF3)2PhBrettPhos</td>\n      <td>104</td>\n      <td>COc1ccc(OC)c(P(c2cc(C(F)(F)F)cc(C(F)(F)F)c2)c2...</td>\n    </tr>\n    <tr>\n      <th>104</th>\n      <td>CF3BrettPhos</td>\n      <td>105</td>\n      <td>COc1ccc(OC)c(P(C(F)(F)F)C(F)(F)F)c1-c1c(C(C)C)...</td>\n    </tr>\n    <tr>\n      <th>346</th>\n      <td>AdBrettPhos</td>\n      <td>347</td>\n      <td>COc1ccc(c(c1c1c(cc(cc1C(C)C)C(C)C)C(C)C)P(C12C...</td>\n    </tr>\n    <tr>\n      <th>362</th>\n      <td>CBrettJackie P(3,5-(CF3)2-Ph)2(3,6-OMe2-2-(2,6...</td>\n      <td>363</td>\n      <td>COc1ccc(OC)c(P(c2cc(C(F)(F)F)cc(C(F)(F)F)c2)c2...</td>\n    </tr>\n    <tr>\n      <th>363</th>\n      <td>RuBrettJackie P(3,5-(CF3)2-Ph)2(3,6-OMe2-2-(2,...</td>\n      <td>364</td>\n      <td>COc1ccc(OC)c(P(c2cc(C(F)(F)F)cc(C(F)(F)F)c2)c2...</td>\n    </tr>\n    <tr>\n      <th>1275</th>\n      <td>AdCyBrettPhos (S)</td>\n      <td>1276</td>\n      <td>COc1ccc(c(c1c1c(cc(cc1C(C)C)C(C)C)C(C)C)P(C12C...</td>\n    </tr>\n  </tbody>\n</table>\n</div>"
     },
     "execution_count": 2,
     "metadata": {},
     "output_type": "execute_result"
    }
   ],
   "source": [
    "lookup_kraken(name='brett')"
   ],
   "metadata": {
    "collapsed": false,
    "pycharm": {
     "name": "#%%\n"
    }
   }
  },
  {
   "cell_type": "code",
   "execution_count": 3,
   "outputs": [
    {
     "name": "stdout",
     "output_type": "stream",
     "text": [
      "Found result by ligand name\n"
     ]
    },
    {
     "data": {
      "text/plain": "  ligand  id                                        can_smiles\n1  CPhos   2  CN(C)c1cccc(N(C)C)c1-c1ccccc1P(C1CCCCC1)C1CCCCC1",
      "text/html": "<div>\n<style scoped>\n    .dataframe tbody tr th:only-of-type {\n        vertical-align: middle;\n    }\n\n    .dataframe tbody tr th {\n        vertical-align: top;\n    }\n\n    .dataframe thead th {\n        text-align: right;\n    }\n</style>\n<table border=\"1\" class=\"dataframe\">\n  <thead>\n    <tr style=\"text-align: right;\">\n      <th></th>\n      <th>ligand</th>\n      <th>id</th>\n      <th>can_smiles</th>\n    </tr>\n  </thead>\n  <tbody>\n    <tr>\n      <th>1</th>\n      <td>CPhos</td>\n      <td>2</td>\n      <td>CN(C)c1cccc(N(C)C)c1-c1ccccc1P(C1CCCCC1)C1CCCCC1</td>\n    </tr>\n  </tbody>\n</table>\n</div>"
     },
     "execution_count": 3,
     "metadata": {},
     "output_type": "execute_result"
    }
   ],
   "source": [
    "lookup_kraken(name='cPHoS')"
   ],
   "metadata": {
    "collapsed": false,
    "pycharm": {
     "name": "#%%\n"
    }
   }
  },
  {
   "cell_type": "code",
   "execution_count": 4,
   "outputs": [
    {
     "name": "stdout",
     "output_type": "stream",
     "text": [
      "Found result by ligand name\n"
     ]
    },
    {
     "data": {
      "text/plain": "   ligand  id                     can_smiles\n16   PPh3  17  c1ccc(P(c2ccccc2)c2ccccc2)cc1",
      "text/html": "<div>\n<style scoped>\n    .dataframe tbody tr th:only-of-type {\n        vertical-align: middle;\n    }\n\n    .dataframe tbody tr th {\n        vertical-align: top;\n    }\n\n    .dataframe thead th {\n        text-align: right;\n    }\n</style>\n<table border=\"1\" class=\"dataframe\">\n  <thead>\n    <tr style=\"text-align: right;\">\n      <th></th>\n      <th>ligand</th>\n      <th>id</th>\n      <th>can_smiles</th>\n    </tr>\n  </thead>\n  <tbody>\n    <tr>\n      <th>16</th>\n      <td>PPh3</td>\n      <td>17</td>\n      <td>c1ccc(P(c2ccccc2)c2ccccc2)cc1</td>\n    </tr>\n  </tbody>\n</table>\n</div>"
     },
     "execution_count": 4,
     "metadata": {},
     "output_type": "execute_result"
    }
   ],
   "source": [
    "lookup_kraken(name='pPH3')"
   ],
   "metadata": {
    "collapsed": false,
    "pycharm": {
     "name": "#%%\n"
    }
   }
  },
  {
   "cell_type": "code",
   "execution_count": 5,
   "outputs": [
    {
     "name": "stdout",
     "output_type": "stream",
     "text": [
      "No exact match found, here are some possibilities\n"
     ]
    },
    {
     "data": {
      "text/plain": "                          ligand    id  \\\n15                    P(4CF3Ph)3    16   \n25                 35CF3_PhSPhos    26   \n27                  4CF3_PhSPhos    28   \n28                 35CF3_PhXPhos    29   \n32                35CF3_PhRuPhos    33   \n...                          ...   ...   \n1399  Binaph_OMe_P(3,5(CF3)2Ph)2  1474   \n1406              PPh(OC(CF3)3)2  1481   \n1407              PPh2(OC(CF3)3)  1482   \n1433            PoTol(4-CF3-Ph)2  1508   \n1434       PoTol(3,5-(CF3)2-Ph)2  1509   \n\n                                             can_smiles  \n15    FC(F)(F)c1ccc(P(c2ccc(C(F)(F)F)cc2)c2ccc(C(F)(...  \n25    COc1cccc(OC)c1-c1ccccc1P(c1cc(C(F)(F)F)cc(C(F)...  \n27    COc1cccc(OC)c1-c1ccccc1P(c1ccc(C(F)(F)F)cc1)c1...  \n28    CC(C)c1cc(C(C)C)c(-c2ccccc2P(c2cc(C(F)(F)F)cc(...  \n32    CC(C)Oc1cccc(OC(C)C)c1-c1ccccc1P(c1cc(C(F)(F)F...  \n...                                                 ...  \n1399  COc1ccc2ccccc2c1-c1c(P(c2cc(C(F)(F)F)cc(C(F)(F...  \n1406  FC(F)(F)C(OP(OC(C(F)(F)F)(C(F)(F)F)C(F)(F)F)c1...  \n1407  FC(F)(F)C(OP(c1ccccc1)c1ccccc1)(C(F)(F)F)C(F)(F)F  \n1433   Cc1ccccc1P(c1ccc(C(F)(F)F)cc1)c1ccc(C(F)(F)F)cc1  \n1434  Cc1ccccc1P(c1cc(C(F)(F)F)cc(C(F)(F)F)c1)c1cc(C...  \n\n[98 rows x 3 columns]",
      "text/html": "<div>\n<style scoped>\n    .dataframe tbody tr th:only-of-type {\n        vertical-align: middle;\n    }\n\n    .dataframe tbody tr th {\n        vertical-align: top;\n    }\n\n    .dataframe thead th {\n        text-align: right;\n    }\n</style>\n<table border=\"1\" class=\"dataframe\">\n  <thead>\n    <tr style=\"text-align: right;\">\n      <th></th>\n      <th>ligand</th>\n      <th>id</th>\n      <th>can_smiles</th>\n    </tr>\n  </thead>\n  <tbody>\n    <tr>\n      <th>15</th>\n      <td>P(4CF3Ph)3</td>\n      <td>16</td>\n      <td>FC(F)(F)c1ccc(P(c2ccc(C(F)(F)F)cc2)c2ccc(C(F)(...</td>\n    </tr>\n    <tr>\n      <th>25</th>\n      <td>35CF3_PhSPhos</td>\n      <td>26</td>\n      <td>COc1cccc(OC)c1-c1ccccc1P(c1cc(C(F)(F)F)cc(C(F)...</td>\n    </tr>\n    <tr>\n      <th>27</th>\n      <td>4CF3_PhSPhos</td>\n      <td>28</td>\n      <td>COc1cccc(OC)c1-c1ccccc1P(c1ccc(C(F)(F)F)cc1)c1...</td>\n    </tr>\n    <tr>\n      <th>28</th>\n      <td>35CF3_PhXPhos</td>\n      <td>29</td>\n      <td>CC(C)c1cc(C(C)C)c(-c2ccccc2P(c2cc(C(F)(F)F)cc(...</td>\n    </tr>\n    <tr>\n      <th>32</th>\n      <td>35CF3_PhRuPhos</td>\n      <td>33</td>\n      <td>CC(C)Oc1cccc(OC(C)C)c1-c1ccccc1P(c1cc(C(F)(F)F...</td>\n    </tr>\n    <tr>\n      <th>...</th>\n      <td>...</td>\n      <td>...</td>\n      <td>...</td>\n    </tr>\n    <tr>\n      <th>1399</th>\n      <td>Binaph_OMe_P(3,5(CF3)2Ph)2</td>\n      <td>1474</td>\n      <td>COc1ccc2ccccc2c1-c1c(P(c2cc(C(F)(F)F)cc(C(F)(F...</td>\n    </tr>\n    <tr>\n      <th>1406</th>\n      <td>PPh(OC(CF3)3)2</td>\n      <td>1481</td>\n      <td>FC(F)(F)C(OP(OC(C(F)(F)F)(C(F)(F)F)C(F)(F)F)c1...</td>\n    </tr>\n    <tr>\n      <th>1407</th>\n      <td>PPh2(OC(CF3)3)</td>\n      <td>1482</td>\n      <td>FC(F)(F)C(OP(c1ccccc1)c1ccccc1)(C(F)(F)F)C(F)(F)F</td>\n    </tr>\n    <tr>\n      <th>1433</th>\n      <td>PoTol(4-CF3-Ph)2</td>\n      <td>1508</td>\n      <td>Cc1ccccc1P(c1ccc(C(F)(F)F)cc1)c1ccc(C(F)(F)F)cc1</td>\n    </tr>\n    <tr>\n      <th>1434</th>\n      <td>PoTol(3,5-(CF3)2-Ph)2</td>\n      <td>1509</td>\n      <td>Cc1ccccc1P(c1cc(C(F)(F)F)cc(C(F)(F)F)c1)c1cc(C...</td>\n    </tr>\n  </tbody>\n</table>\n<p>98 rows × 3 columns</p>\n</div>"
     },
     "execution_count": 5,
     "metadata": {},
     "output_type": "execute_result"
    }
   ],
   "source": [
    "lookup_kraken(name='CF3')"
   ],
   "metadata": {
    "collapsed": false,
    "pycharm": {
     "name": "#%%\n"
    }
   }
  },
  {
   "cell_type": "code",
   "execution_count": 6,
   "outputs": [
    {
     "name": "stdout",
     "output_type": "stream",
     "text": [
      "No exact match found, here are some possibilities\n"
     ]
    },
    {
     "data": {
      "text/plain": "                      ligand    id  \\\n325            o-MeO-KitPhos   326   \n1127  PPh2(Me2tBu2Xanthenyl)  1128   \n\n                                             can_smiles  \n325   COc1ccccc1C1=C(P(C2CCCCC2)C2CCCCC2)[C@H]2c3ccc...  \n1127  CC(C)(C)c1ccc2c(c1)C(C)(C)c1cc(C(C)(C)C)cc(P(c...  ",
      "text/html": "<div>\n<style scoped>\n    .dataframe tbody tr th:only-of-type {\n        vertical-align: middle;\n    }\n\n    .dataframe tbody tr th {\n        vertical-align: top;\n    }\n\n    .dataframe thead th {\n        text-align: right;\n    }\n</style>\n<table border=\"1\" class=\"dataframe\">\n  <thead>\n    <tr style=\"text-align: right;\">\n      <th></th>\n      <th>ligand</th>\n      <th>id</th>\n      <th>can_smiles</th>\n    </tr>\n  </thead>\n  <tbody>\n    <tr>\n      <th>325</th>\n      <td>o-MeO-KitPhos</td>\n      <td>326</td>\n      <td>COc1ccccc1C1=C(P(C2CCCCC2)C2CCCCC2)[C@H]2c3ccc...</td>\n    </tr>\n    <tr>\n      <th>1127</th>\n      <td>PPh2(Me2tBu2Xanthenyl)</td>\n      <td>1128</td>\n      <td>CC(C)(C)c1ccc2c(c1)C(C)(C)c1cc(C(C)(C)C)cc(P(c...</td>\n    </tr>\n  </tbody>\n</table>\n</div>"
     },
     "execution_count": 6,
     "metadata": {},
     "output_type": "execute_result"
    }
   ],
   "source": [
    "lookup_kraken(smiles='COc1ccccc1C1=C(P(C2CCCCC2)C2CCCCC2)C2c3ccccc3C1c1ccccc12')"
   ],
   "metadata": {
    "collapsed": false,
    "pycharm": {
     "name": "#%%\n"
    }
   }
  },
  {
   "cell_type": "code",
   "execution_count": 7,
   "outputs": [
    {
     "name": "stdout",
     "output_type": "stream",
     "text": [
      "Found result by smiles\n"
     ]
    },
    {
     "data": {
      "text/plain": "           ligand   id                                         can_smiles\n326  Cy-BippyPhos  327  c1ccc(-c2nn(-c3ccccc3)c(-c3ccccc3)c2-n2nccc2P(...",
      "text/html": "<div>\n<style scoped>\n    .dataframe tbody tr th:only-of-type {\n        vertical-align: middle;\n    }\n\n    .dataframe tbody tr th {\n        vertical-align: top;\n    }\n\n    .dataframe thead th {\n        text-align: right;\n    }\n</style>\n<table border=\"1\" class=\"dataframe\">\n  <thead>\n    <tr style=\"text-align: right;\">\n      <th></th>\n      <th>ligand</th>\n      <th>id</th>\n      <th>can_smiles</th>\n    </tr>\n  </thead>\n  <tbody>\n    <tr>\n      <th>326</th>\n      <td>Cy-BippyPhos</td>\n      <td>327</td>\n      <td>c1ccc(-c2nn(-c3ccccc3)c(-c3ccccc3)c2-n2nccc2P(...</td>\n    </tr>\n  </tbody>\n</table>\n</div>"
     },
     "execution_count": 7,
     "metadata": {},
     "output_type": "execute_result"
    }
   ],
   "source": [
    "lookup_kraken(smiles='c1ccc(-c2nn(-c3ccccc3)c(-c3ccccc3)c2-n2nccc2P(C2CCCCC2)C2CCCCC2)cc1')"
   ],
   "metadata": {
    "collapsed": false,
    "pycharm": {
     "name": "#%%\n"
    }
   }
  },
  {
   "cell_type": "code",
   "execution_count": 8,
   "outputs": [
    {
     "name": "stdout",
     "output_type": "stream",
     "text": [
      "No matches found. This ligand is possibly not in kraken.\n"
     ]
    }
   ],
   "source": [
    "lookup_kraken(smiles='CCOCC')"
   ],
   "metadata": {
    "collapsed": false,
    "pycharm": {
     "name": "#%%\n"
    }
   }
  },
  {
   "cell_type": "code",
   "execution_count": 9,
   "outputs": [
    {
     "name": "stdout",
     "output_type": "stream",
     "text": [
      "No exact match found, here are some possibilities\n"
     ]
    },
    {
     "data": {
      "text/plain": "                      ligand    id  \\\n325            o-MeO-KitPhos   326   \n1127  PPh2(Me2tBu2Xanthenyl)  1128   \n\n                                             can_smiles  \n325   COc1ccccc1C1=C(P(C2CCCCC2)C2CCCCC2)[C@H]2c3ccc...  \n1127  CC(C)(C)c1ccc2c(c1)C(C)(C)c1cc(C(C)(C)C)cc(P(c...  ",
      "text/html": "<div>\n<style scoped>\n    .dataframe tbody tr th:only-of-type {\n        vertical-align: middle;\n    }\n\n    .dataframe tbody tr th {\n        vertical-align: top;\n    }\n\n    .dataframe thead th {\n        text-align: right;\n    }\n</style>\n<table border=\"1\" class=\"dataframe\">\n  <thead>\n    <tr style=\"text-align: right;\">\n      <th></th>\n      <th>ligand</th>\n      <th>id</th>\n      <th>can_smiles</th>\n    </tr>\n  </thead>\n  <tbody>\n    <tr>\n      <th>325</th>\n      <td>o-MeO-KitPhos</td>\n      <td>326</td>\n      <td>COc1ccccc1C1=C(P(C2CCCCC2)C2CCCCC2)[C@H]2c3ccc...</td>\n    </tr>\n    <tr>\n      <th>1127</th>\n      <td>PPh2(Me2tBu2Xanthenyl)</td>\n      <td>1128</td>\n      <td>CC(C)(C)c1ccc2c(c1)C(C)(C)c1cc(C(C)(C)C)cc(P(c...</td>\n    </tr>\n  </tbody>\n</table>\n</div>"
     },
     "execution_count": 9,
     "metadata": {},
     "output_type": "execute_result"
    }
   ],
   "source": [
    "lookup_kraken(inchi='InChI=1S/C35H39OP/c1-36-31-23-13-12-22-30(31)34-32-26-18-8-10-20-28(26)33(29-21-11-9-19-27(29)32)35(34)37(24-14-4-2-5-15-24)25-16-6-3-7-17-25/h8-13,18-25,32-33H,2-7,14-17H2,1H3')"
   ],
   "metadata": {
    "collapsed": false,
    "pycharm": {
     "name": "#%%\n"
    }
   }
  },
  {
   "cell_type": "code",
   "execution_count": 14,
   "outputs": [
    {
     "name": "stdout",
     "output_type": "stream",
     "text": [
      "Found result by inchi\n"
     ]
    },
    {
     "data": {
      "text/plain": "                 ligand   id                                   can_smiles\n335  NPCy Phendole-Phos  336  c1ccc(-c2cc3ccccc3n2P(C2CCCCC2)C2CCCCC2)cc1",
      "text/html": "<div>\n<style scoped>\n    .dataframe tbody tr th:only-of-type {\n        vertical-align: middle;\n    }\n\n    .dataframe tbody tr th {\n        vertical-align: top;\n    }\n\n    .dataframe thead th {\n        text-align: right;\n    }\n</style>\n<table border=\"1\" class=\"dataframe\">\n  <thead>\n    <tr style=\"text-align: right;\">\n      <th></th>\n      <th>ligand</th>\n      <th>id</th>\n      <th>can_smiles</th>\n    </tr>\n  </thead>\n  <tbody>\n    <tr>\n      <th>335</th>\n      <td>NPCy Phendole-Phos</td>\n      <td>336</td>\n      <td>c1ccc(-c2cc3ccccc3n2P(C2CCCCC2)C2CCCCC2)cc1</td>\n    </tr>\n  </tbody>\n</table>\n</div>"
     },
     "execution_count": 14,
     "metadata": {},
     "output_type": "execute_result"
    }
   ],
   "source": [
    "lookup_kraken(inchi='InChI=1S/C26H32NP/c1-4-12-21(13-5-1)26-20-22-14-10-11-19-25(22)27(26)28(23-15-6-2-7-16-23)24-17-8-3-9-18-24/h1,4-5,10-14,19-20,23-24H,2-3,6-9,15-18H2')"
   ],
   "metadata": {
    "collapsed": false,
    "pycharm": {
     "name": "#%%\n"
    }
   }
  },
  {
   "cell_type": "code",
   "execution_count": 15,
   "outputs": [
    {
     "name": "stdout",
     "output_type": "stream",
     "text": [
      "Found result by CAS number\n"
     ]
    },
    {
     "data": {
      "text/plain": "    ligand  id                      can_smiles\n18  PBnPh2  19  c1ccc(CP(c2ccccc2)c2ccccc2)cc1",
      "text/html": "<div>\n<style scoped>\n    .dataframe tbody tr th:only-of-type {\n        vertical-align: middle;\n    }\n\n    .dataframe tbody tr th {\n        vertical-align: top;\n    }\n\n    .dataframe thead th {\n        text-align: right;\n    }\n</style>\n<table border=\"1\" class=\"dataframe\">\n  <thead>\n    <tr style=\"text-align: right;\">\n      <th></th>\n      <th>ligand</th>\n      <th>id</th>\n      <th>can_smiles</th>\n    </tr>\n  </thead>\n  <tbody>\n    <tr>\n      <th>18</th>\n      <td>PBnPh2</td>\n      <td>19</td>\n      <td>c1ccc(CP(c2ccccc2)c2ccccc2)cc1</td>\n    </tr>\n  </tbody>\n</table>\n</div>"
     },
     "execution_count": 15,
     "metadata": {},
     "output_type": "execute_result"
    }
   ],
   "source": [
    "lookup_kraken(cas='63832-86-0')"
   ],
   "metadata": {
    "collapsed": false,
    "pycharm": {
     "name": "#%%\n"
    }
   }
  },
  {
   "cell_type": "code",
   "execution_count": 16,
   "outputs": [
    {
     "name": "stdout",
     "output_type": "stream",
     "text": [
      "Found result by CAS number\n"
     ]
    },
    {
     "data": {
      "text/plain": "    ligand  id                      can_smiles\n18  PBnPh2  19  c1ccc(CP(c2ccccc2)c2ccccc2)cc1",
      "text/html": "<div>\n<style scoped>\n    .dataframe tbody tr th:only-of-type {\n        vertical-align: middle;\n    }\n\n    .dataframe tbody tr th {\n        vertical-align: top;\n    }\n\n    .dataframe thead th {\n        text-align: right;\n    }\n</style>\n<table border=\"1\" class=\"dataframe\">\n  <thead>\n    <tr style=\"text-align: right;\">\n      <th></th>\n      <th>ligand</th>\n      <th>id</th>\n      <th>can_smiles</th>\n    </tr>\n  </thead>\n  <tbody>\n    <tr>\n      <th>18</th>\n      <td>PBnPh2</td>\n      <td>19</td>\n      <td>c1ccc(CP(c2ccccc2)c2ccccc2)cc1</td>\n    </tr>\n  </tbody>\n</table>\n</div>"
     },
     "execution_count": 16,
     "metadata": {},
     "output_type": "execute_result"
    }
   ],
   "source": [
    "# if match for higher priority term is found, the rest are ignored\n",
    "lookup_kraken(cas='63832-86-0', name='jason', smiles='jason')"
   ],
   "metadata": {
    "collapsed": false,
    "pycharm": {
     "name": "#%%\n"
    }
   }
  },
  {
   "cell_type": "code",
   "source": [
    "# going through priority progression\n",
    "lookup_kraken(cas='000-00-0', name='cYjOHnPhOS', smiles='jason')"
   ],
   "metadata": {
    "collapsed": false,
    "pycharm": {
     "name": "#%%\n"
    }
   },
   "execution_count": 17,
   "outputs": [
    {
     "name": "stdout",
     "output_type": "stream",
     "text": [
      "Found result by ligand name\n"
     ]
    },
    {
     "data": {
      "text/plain": "       ligand  id                              can_smiles\n4  CyJohnPhos   5  c1ccc(-c2ccccc2P(C2CCCCC2)C2CCCCC2)cc1",
      "text/html": "<div>\n<style scoped>\n    .dataframe tbody tr th:only-of-type {\n        vertical-align: middle;\n    }\n\n    .dataframe tbody tr th {\n        vertical-align: top;\n    }\n\n    .dataframe thead th {\n        text-align: right;\n    }\n</style>\n<table border=\"1\" class=\"dataframe\">\n  <thead>\n    <tr style=\"text-align: right;\">\n      <th></th>\n      <th>ligand</th>\n      <th>id</th>\n      <th>can_smiles</th>\n    </tr>\n  </thead>\n  <tbody>\n    <tr>\n      <th>4</th>\n      <td>CyJohnPhos</td>\n      <td>5</td>\n      <td>c1ccc(-c2ccccc2P(C2CCCCC2)C2CCCCC2)cc1</td>\n    </tr>\n  </tbody>\n</table>\n</div>"
     },
     "execution_count": 17,
     "metadata": {},
     "output_type": "execute_result"
    }
   ]
  },
  {
   "cell_type": "markdown",
   "source": [
    "## Retrive data from Kraken with ID"
   ],
   "metadata": {
    "collapsed": false
   }
  },
  {
   "cell_type": "code",
   "execution_count": 18,
   "outputs": [
    {
     "data": {
      "text/plain": "   id      ligand                              can_smiles  \\\n4   5  CyJohnPhos  c1ccc(-c2ccccc2P(C2CCCCC2)C2CCCCC2)cc1   \n\n                                  smiles  \\\n4  C1CCC(CC1)P(c1ccccc1c1ccccc1)C1CCCCC1   \n\n                        smiles(dft_sheet)  vmin_vmin_boltz  vmin_r_boltz  \\\n4  c1ccc(-c2ccccc2P(C2CCCCC2)C2CCCCC2)cc1        -0.061351      1.816461   \n\n   fmo_e_homo_boltz  fmo_e_lumo_boltz  fmo_mu_boltz  ...  CPO  P[N]3  P(OR)3  \\\n4         -0.218842         -0.030145     -0.124494  ...  0.0    0.0     0.0   \n\n   Phosphoramidite  PON2  PXY  [Fe]  Buchwald  PPhR2  Cy2PR  \n4              0.0   0.0  0.0   0.0       1.0    0.0    1.0  \n\n[1 rows x 224 columns]",
      "text/html": "<div>\n<style scoped>\n    .dataframe tbody tr th:only-of-type {\n        vertical-align: middle;\n    }\n\n    .dataframe tbody tr th {\n        vertical-align: top;\n    }\n\n    .dataframe thead th {\n        text-align: right;\n    }\n</style>\n<table border=\"1\" class=\"dataframe\">\n  <thead>\n    <tr style=\"text-align: right;\">\n      <th></th>\n      <th>id</th>\n      <th>ligand</th>\n      <th>can_smiles</th>\n      <th>smiles</th>\n      <th>smiles(dft_sheet)</th>\n      <th>vmin_vmin_boltz</th>\n      <th>vmin_r_boltz</th>\n      <th>fmo_e_homo_boltz</th>\n      <th>fmo_e_lumo_boltz</th>\n      <th>fmo_mu_boltz</th>\n      <th>...</th>\n      <th>CPO</th>\n      <th>P[N]3</th>\n      <th>P(OR)3</th>\n      <th>Phosphoramidite</th>\n      <th>PON2</th>\n      <th>PXY</th>\n      <th>[Fe]</th>\n      <th>Buchwald</th>\n      <th>PPhR2</th>\n      <th>Cy2PR</th>\n    </tr>\n  </thead>\n  <tbody>\n    <tr>\n      <th>4</th>\n      <td>5</td>\n      <td>CyJohnPhos</td>\n      <td>c1ccc(-c2ccccc2P(C2CCCCC2)C2CCCCC2)cc1</td>\n      <td>C1CCC(CC1)P(c1ccccc1c1ccccc1)C1CCCCC1</td>\n      <td>c1ccc(-c2ccccc2P(C2CCCCC2)C2CCCCC2)cc1</td>\n      <td>-0.061351</td>\n      <td>1.816461</td>\n      <td>-0.218842</td>\n      <td>-0.030145</td>\n      <td>-0.124494</td>\n      <td>...</td>\n      <td>0.0</td>\n      <td>0.0</td>\n      <td>0.0</td>\n      <td>0.0</td>\n      <td>0.0</td>\n      <td>0.0</td>\n      <td>0.0</td>\n      <td>1.0</td>\n      <td>0.0</td>\n      <td>1.0</td>\n    </tr>\n  </tbody>\n</table>\n<p>1 rows × 224 columns</p>\n</div>"
     },
     "execution_count": 18,
     "metadata": {},
     "output_type": "execute_result"
    }
   ],
   "source": [
    "import pandas as pd\n",
    "df = pd.read_csv('kraken.csv')\n",
    "df[df['id'] == 5]"
   ],
   "metadata": {
    "collapsed": false,
    "pycharm": {
     "name": "#%%\n"
    }
   }
  },
  {
   "cell_type": "code",
   "execution_count": 13,
   "outputs": [],
   "source": [],
   "metadata": {
    "collapsed": false,
    "pycharm": {
     "name": "#%%\n"
    }
   }
  }
 ],
 "metadata": {
  "kernelspec": {
   "display_name": "Python 3",
   "language": "python",
   "name": "python3"
  },
  "language_info": {
   "codemirror_mode": {
    "name": "ipython",
    "version": 2
   },
   "file_extension": ".py",
   "mimetype": "text/x-python",
   "name": "python",
   "nbconvert_exporter": "python",
   "pygments_lexer": "ipython2",
   "version": "2.7.6"
  }
 },
 "nbformat": 4,
 "nbformat_minor": 0
}