{
 "cells": [
  {
   "cell_type": "markdown",
   "source": [
    "Use url to read data. Change file path (everything after 'main/')\n",
    "\n",
    "This eliminates the need to organize and download data/descriptor files for every project\n",
    "\n",
    "Go to github repo https://github.com/beef-broccoli/ochem-data for file paths"
   ],
   "metadata": {
    "collapsed": false
   }
  },
  {
   "cell_type": "code",
   "execution_count": null,
   "outputs": [],
   "source": [
    "import pandas as pd\n",
    "\n",
    "# if I want to read one-hot encoded data for deoxyfluorination set\n",
    "PATH = 'https://raw.githubusercontent.com/beef-broccoli/ochem-data/main/deoxyF/ohe.csv'\n",
    "df = pd.read_csv(PATH)\n",
    "\n",
    "# if I want mol2vec encoding\n",
    "PATH2 = 'https://raw.githubusercontent.com/beef-broccoli/ochem-data/main/deoxyF/mol2vec.csv'\n",
    "df2 = pd.read_csv(PATH)"
   ],
   "metadata": {
    "collapsed": false,
    "pycharm": {
     "name": "#%%\n"
    }
   }
  }
 ],
 "metadata": {
  "kernelspec": {
   "display_name": "Python 3",
   "language": "python",
   "name": "python3"
  },
  "language_info": {
   "codemirror_mode": {
    "name": "ipython",
    "version": 2
   },
   "file_extension": ".py",
   "mimetype": "text/x-python",
   "name": "python",
   "nbconvert_exporter": "python",
   "pygments_lexer": "ipython2",
   "version": "2.7.6"
  }
 },
 "nbformat": 4,
 "nbformat_minor": 0
}